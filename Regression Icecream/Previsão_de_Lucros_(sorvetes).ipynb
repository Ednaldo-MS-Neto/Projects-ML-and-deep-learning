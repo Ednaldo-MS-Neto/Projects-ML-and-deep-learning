{
 "cells": [
  {
   "cell_type": "markdown",
   "metadata": {
    "id": "M27qF7CTrBqc"
   },
   "source": [
    "# Definição do problema"
   ]
  },
  {
   "cell_type": "markdown",
   "metadata": {
    "id": "iCj2rwwHBB1I"
   },
   "source": [
    "- Base de dados:\n",
    "  - Input (X): Temperatura\n",
    "  - Output (Y): Lucro diário em dólares "
   ]
  },
  {
   "cell_type": "markdown",
   "metadata": {
    "id": "zKmFmyaGunc7"
   },
   "source": [
    "# Etapa 1: Importação das bibliotecas"
   ]
  },
  {
   "cell_type": "code",
   "execution_count": 15,
   "metadata": {
    "colab": {
     "base_uri": "https://localhost:8080/",
     "height": 52
    },
    "id": "Y_LnJrYYAr7b",
    "outputId": "532ca682-a1c4-43f2-fc89-83b901c779d0"
   },
   "outputs": [
    {
     "data": {
      "text/plain": [
       "'2.8.0'"
      ]
     },
     "execution_count": 15,
     "metadata": {},
     "output_type": "execute_result"
    }
   ],
   "source": [
    "\n",
    "import tensorflow as tf\n",
    "import pandas as pd\n",
    "import numpy as np\n",
    "import seaborn as sns\n",
    "import matplotlib.pyplot as plt\n",
    "\n",
    "from sklearn.model_selection import train_test_split\n",
    "from sklearn.linear_model import LinearRegression\n",
    "\n",
    "tf.__version__"
   ]
  },
  {
   "cell_type": "markdown",
   "metadata": {
    "id": "uAE6Icc0uylP"
   },
   "source": [
    "# Etapa 2: Importação da base de dados"
   ]
  },
  {
   "cell_type": "code",
   "execution_count": 4,
   "metadata": {
    "id": "mLjnytV6eMA0"
   },
   "outputs": [],
   "source": [
    "# Leitura do arquivo csv\n",
    "df = pd.read_csv(\"SalesData.csv\")"
   ]
  },
  {
   "cell_type": "code",
   "execution_count": 6,
   "metadata": {
    "colab": {
     "base_uri": "https://localhost:8080/",
     "height": 407
    },
    "id": "q4_wPDKCu5Uc",
    "outputId": "93c2b0cc-f608-4eb2-8474-0eab65e6bd46"
   },
   "outputs": [
    {
     "data": {
      "text/html": [
       "<div>\n",
       "<style scoped>\n",
       "    .dataframe tbody tr th:only-of-type {\n",
       "        vertical-align: middle;\n",
       "    }\n",
       "\n",
       "    .dataframe tbody tr th {\n",
       "        vertical-align: top;\n",
       "    }\n",
       "\n",
       "    .dataframe thead th {\n",
       "        text-align: right;\n",
       "    }\n",
       "</style>\n",
       "<table border=\"1\" class=\"dataframe\">\n",
       "  <thead>\n",
       "    <tr style=\"text-align: right;\">\n",
       "      <th></th>\n",
       "      <th>Temperature</th>\n",
       "      <th>Revenue</th>\n",
       "    </tr>\n",
       "  </thead>\n",
       "  <tbody>\n",
       "    <tr>\n",
       "      <th>0</th>\n",
       "      <td>24.566884</td>\n",
       "      <td>534.799028</td>\n",
       "    </tr>\n",
       "    <tr>\n",
       "      <th>1</th>\n",
       "      <td>26.005191</td>\n",
       "      <td>625.190122</td>\n",
       "    </tr>\n",
       "    <tr>\n",
       "      <th>2</th>\n",
       "      <td>27.790554</td>\n",
       "      <td>660.632289</td>\n",
       "    </tr>\n",
       "    <tr>\n",
       "      <th>3</th>\n",
       "      <td>20.595335</td>\n",
       "      <td>487.706960</td>\n",
       "    </tr>\n",
       "    <tr>\n",
       "      <th>4</th>\n",
       "      <td>11.503498</td>\n",
       "      <td>316.240194</td>\n",
       "    </tr>\n",
       "  </tbody>\n",
       "</table>\n",
       "</div>"
      ],
      "text/plain": [
       "   Temperature     Revenue\n",
       "0    24.566884  534.799028\n",
       "1    26.005191  625.190122\n",
       "2    27.790554  660.632289\n",
       "3    20.595335  487.706960\n",
       "4    11.503498  316.240194"
      ]
     },
     "execution_count": 6,
     "metadata": {},
     "output_type": "execute_result"
    }
   ],
   "source": [
    "df.head()"
   ]
  },
  {
   "cell_type": "code",
   "execution_count": 7,
   "metadata": {
    "colab": {
     "base_uri": "https://localhost:8080/",
     "height": 348
    },
    "id": "RUt2ON_UxyYk",
    "outputId": "d0c1e481-0b30-479a-ca77-363637b0a2a1"
   },
   "outputs": [
    {
     "data": {
      "text/html": [
       "<div>\n",
       "<style scoped>\n",
       "    .dataframe tbody tr th:only-of-type {\n",
       "        vertical-align: middle;\n",
       "    }\n",
       "\n",
       "    .dataframe tbody tr th {\n",
       "        vertical-align: top;\n",
       "    }\n",
       "\n",
       "    .dataframe thead th {\n",
       "        text-align: right;\n",
       "    }\n",
       "</style>\n",
       "<table border=\"1\" class=\"dataframe\">\n",
       "  <thead>\n",
       "    <tr style=\"text-align: right;\">\n",
       "      <th></th>\n",
       "      <th>Temperature</th>\n",
       "      <th>Revenue</th>\n",
       "    </tr>\n",
       "  </thead>\n",
       "  <tbody>\n",
       "    <tr>\n",
       "      <th>490</th>\n",
       "      <td>23.824922</td>\n",
       "      <td>584.399945</td>\n",
       "    </tr>\n",
       "    <tr>\n",
       "      <th>491</th>\n",
       "      <td>34.472169</td>\n",
       "      <td>809.352519</td>\n",
       "    </tr>\n",
       "    <tr>\n",
       "      <th>492</th>\n",
       "      <td>23.056214</td>\n",
       "      <td>552.819351</td>\n",
       "    </tr>\n",
       "    <tr>\n",
       "      <th>493</th>\n",
       "      <td>14.931506</td>\n",
       "      <td>377.430928</td>\n",
       "    </tr>\n",
       "    <tr>\n",
       "      <th>494</th>\n",
       "      <td>25.112066</td>\n",
       "      <td>571.434257</td>\n",
       "    </tr>\n",
       "    <tr>\n",
       "      <th>495</th>\n",
       "      <td>22.274899</td>\n",
       "      <td>524.746364</td>\n",
       "    </tr>\n",
       "    <tr>\n",
       "      <th>496</th>\n",
       "      <td>32.893092</td>\n",
       "      <td>755.818399</td>\n",
       "    </tr>\n",
       "    <tr>\n",
       "      <th>497</th>\n",
       "      <td>12.588157</td>\n",
       "      <td>306.090719</td>\n",
       "    </tr>\n",
       "    <tr>\n",
       "      <th>498</th>\n",
       "      <td>22.362402</td>\n",
       "      <td>566.217304</td>\n",
       "    </tr>\n",
       "    <tr>\n",
       "      <th>499</th>\n",
       "      <td>28.957736</td>\n",
       "      <td>655.660388</td>\n",
       "    </tr>\n",
       "  </tbody>\n",
       "</table>\n",
       "</div>"
      ],
      "text/plain": [
       "     Temperature     Revenue\n",
       "490    23.824922  584.399945\n",
       "491    34.472169  809.352519\n",
       "492    23.056214  552.819351\n",
       "493    14.931506  377.430928\n",
       "494    25.112066  571.434257\n",
       "495    22.274899  524.746364\n",
       "496    32.893092  755.818399\n",
       "497    12.588157  306.090719\n",
       "498    22.362402  566.217304\n",
       "499    28.957736  655.660388"
      ]
     },
     "execution_count": 7,
     "metadata": {},
     "output_type": "execute_result"
    }
   ],
   "source": [
    "# Visualização dos 10 últimos registros\n",
    "df.tail(10)"
   ]
  },
  {
   "cell_type": "code",
   "execution_count": 8,
   "metadata": {
    "colab": {
     "base_uri": "https://localhost:8080/",
     "height": 138
    },
    "id": "hMq3-KWOx0e1",
    "outputId": "e6cb3579-f5d9-42c6-e6f5-892fc0566f2c"
   },
   "outputs": [
    {
     "name": "stdout",
     "output_type": "stream",
     "text": [
      "<class 'pandas.core.frame.DataFrame'>\n",
      "RangeIndex: 500 entries, 0 to 499\n",
      "Data columns (total 2 columns):\n",
      " #   Column       Non-Null Count  Dtype  \n",
      "---  ------       --------------  -----  \n",
      " 0   Temperature  500 non-null    float64\n",
      " 1   Revenue      500 non-null    float64\n",
      "dtypes: float64(2)\n",
      "memory usage: 7.9 KB\n"
     ]
    }
   ],
   "source": [
    "# Visualização de informações da base de dados\n",
    "df.info()"
   ]
  },
  {
   "cell_type": "code",
   "execution_count": 9,
   "metadata": {
    "colab": {
     "base_uri": "https://localhost:8080/",
     "height": 288
    },
    "id": "s0E9xPLdx2Ok",
    "outputId": "3bb3b97a-5e97-4c5e-ba54-b8d0a8631397"
   },
   "outputs": [
    {
     "data": {
      "text/html": [
       "<div>\n",
       "<style scoped>\n",
       "    .dataframe tbody tr th:only-of-type {\n",
       "        vertical-align: middle;\n",
       "    }\n",
       "\n",
       "    .dataframe tbody tr th {\n",
       "        vertical-align: top;\n",
       "    }\n",
       "\n",
       "    .dataframe thead th {\n",
       "        text-align: right;\n",
       "    }\n",
       "</style>\n",
       "<table border=\"1\" class=\"dataframe\">\n",
       "  <thead>\n",
       "    <tr style=\"text-align: right;\">\n",
       "      <th></th>\n",
       "      <th>Temperature</th>\n",
       "      <th>Revenue</th>\n",
       "    </tr>\n",
       "  </thead>\n",
       "  <tbody>\n",
       "    <tr>\n",
       "      <th>count</th>\n",
       "      <td>500.000000</td>\n",
       "      <td>500.000000</td>\n",
       "    </tr>\n",
       "    <tr>\n",
       "      <th>mean</th>\n",
       "      <td>22.232225</td>\n",
       "      <td>521.570777</td>\n",
       "    </tr>\n",
       "    <tr>\n",
       "      <th>std</th>\n",
       "      <td>8.096388</td>\n",
       "      <td>175.404751</td>\n",
       "    </tr>\n",
       "    <tr>\n",
       "      <th>min</th>\n",
       "      <td>0.000000</td>\n",
       "      <td>10.000000</td>\n",
       "    </tr>\n",
       "    <tr>\n",
       "      <th>25%</th>\n",
       "      <td>17.122258</td>\n",
       "      <td>405.558681</td>\n",
       "    </tr>\n",
       "    <tr>\n",
       "      <th>50%</th>\n",
       "      <td>22.392791</td>\n",
       "      <td>529.368565</td>\n",
       "    </tr>\n",
       "    <tr>\n",
       "      <th>75%</th>\n",
       "      <td>27.740674</td>\n",
       "      <td>642.257922</td>\n",
       "    </tr>\n",
       "    <tr>\n",
       "      <th>max</th>\n",
       "      <td>45.000000</td>\n",
       "      <td>1000.000000</td>\n",
       "    </tr>\n",
       "  </tbody>\n",
       "</table>\n",
       "</div>"
      ],
      "text/plain": [
       "       Temperature      Revenue\n",
       "count   500.000000   500.000000\n",
       "mean     22.232225   521.570777\n",
       "std       8.096388   175.404751\n",
       "min       0.000000    10.000000\n",
       "25%      17.122258   405.558681\n",
       "50%      22.392791   529.368565\n",
       "75%      27.740674   642.257922\n",
       "max      45.000000  1000.000000"
      ]
     },
     "execution_count": 9,
     "metadata": {},
     "output_type": "execute_result"
    }
   ],
   "source": [
    "# Descrição da base de dados\n",
    "df.describe()"
   ]
  },
  {
   "cell_type": "markdown",
   "metadata": {
    "id": "LlszUhNNyrl_"
   },
   "source": [
    "# Etapa 3: Visualização da base de dados"
   ]
  },
  {
   "cell_type": "code",
   "execution_count": 10,
   "metadata": {
    "colab": {
     "base_uri": "https://localhost:8080/",
     "height": 279
    },
    "id": "TYcWopZVyvAs",
    "outputId": "ea76316b-38dd-4b52-c9bb-874c2a789b0f"
   },
   "outputs": [
    {
     "data": {
      "text/plain": [
       "<AxesSubplot:xlabel='Temperature', ylabel='Revenue'>"
      ]
     },
     "execution_count": 10,
     "metadata": {},
     "output_type": "execute_result"
    },
    {
     "data": {
      "image/png": "[encoded data removed]",
      "text/plain": [
       "<Figure size 432x288 with 1 Axes>"
      ]
     },
     "metadata": {
      "needs_background": "light"
     },
     "output_type": "display_data"
    }
   ],
   "source": [
    "# Scatter plot do Seborn\n",
    "sns.scatterplot(x = df['Temperature'], y = df['Revenue'])"
   ]
  },
  {
   "cell_type": "markdown",
   "metadata": {
    "id": "Y0GmpAjG3GiH"
   },
   "source": [
    "# Etapa 4: Criação das variáveis da base de dados"
   ]
  },
  {
   "cell_type": "code",
   "execution_count": 17,
   "metadata": {},
   "outputs": [],
   "source": [
    "x = df['Temperature']\n",
    "y = df['Revenue']"
   ]
  },
  {
   "cell_type": "code",
   "execution_count": 25,
   "metadata": {
    "id": "0-maV8hb9rYM"
   },
   "outputs": [],
   "source": [
    "# Criação das variáveis X_train e y_train\n",
    "X_train,X_test,y_train,y_test = train_test_split(x,y, test_size=0.2)"
   ]
  },
  {
   "cell_type": "code",
   "execution_count": 26,
   "metadata": {
    "colab": {
     "base_uri": "https://localhost:8080/",
     "height": 35
    },
    "id": "DqIp8uvJ3cGi",
    "outputId": "3f55cd65-d07a-4572-dde5-ea5071c6fef9",
    "scrolled": true
   },
   "outputs": [
    {
     "data": {
      "text/plain": [
       "True"
      ]
     },
     "execution_count": 26,
     "metadata": {},
     "output_type": "execute_result"
    }
   ],
   "source": [
    "# Verificação da variavel x_train e y_train\n",
    "len(X_train) == len(y_train)"
   ]
  },
  {
   "cell_type": "markdown",
   "metadata": {
    "id": "53qDZFRn3-S1"
   },
   "source": [
    "# Etapa 5: Criação e construção do modelo"
   ]
  },
  {
   "cell_type": "code",
   "execution_count": 74,
   "metadata": {
    "id": "Yl6fmPJj3cCX"
   },
   "outputs": [],
   "source": [
    "# Construção do modelo sequencial\n",
    "model = tf.keras.Sequential()\n",
    "model.add(tf.keras.layers.Dense(units = 1, input_shape = [1]))"
   ]
  },
  {
   "cell_type": "code",
   "execution_count": 75,
   "metadata": {
    "colab": {
     "base_uri": "https://localhost:8080/",
     "height": 191
    },
    "id": "GUd71odB4v-i",
    "outputId": "ef5c3d8d-76fd-4fb5-f982-ef3adbf91782"
   },
   "outputs": [
    {
     "name": "stdout",
     "output_type": "stream",
     "text": [
      "Model: \"sequential_8\"\n",
      "_________________________________________________________________\n",
      " Layer (type)                Output Shape              Param #   \n",
      "=================================================================\n",
      " dense_20 (Dense)            (None, 1)                 2         \n",
      "                                                                 \n",
      "=================================================================\n",
      "Total params: 2\n",
      "Trainable params: 2\n",
      "Non-trainable params: 0\n",
      "_________________________________________________________________\n"
     ]
    }
   ],
   "source": [
    "# Sumário do modelo\n",
    "model.summary()"
   ]
  },
  {
   "cell_type": "code",
   "execution_count": 76,
   "metadata": {
    "id": "BYmvNpNw5Act"
   },
   "outputs": [],
   "source": [
    "# Compilar o modelo\n",
    "model.compile(optimizer=tf.keras.optimizers.Adam(0.1), loss = 'mean_squared_error')"
   ]
  },
  {
   "cell_type": "code",
   "execution_count": 77,
   "metadata": {
    "colab": {
     "base_uri": "https://localhost:8080/",
     "height": 1000
    },
    "id": "tpia0VBS5Ljw",
    "outputId": "3afcb088-0107-4b59-e1ff-597c22a724c9"
   },
   "outputs": [
    {
     "name": "stdout",
     "output_type": "stream",
     "text": [
      "Epoch 1/100\n",
      "13/13 [==============================] - 0s 1ms/step - loss: 272697.5000\n",
      "Epoch 2/100\n",
      "13/13 [==============================] - 0s 2ms/step - loss: 240835.8594\n",
      "Epoch 3/100\n",
      "13/13 [==============================] - 0s 2ms/step - loss: 211596.7656\n",
      "Epoch 4/100\n",
      "13/13 [==============================] - 0s 2ms/step - loss: 185000.5156\n",
      "Epoch 5/100\n",
      "13/13 [==============================] - 0s 2ms/step - loss: 160625.9844\n",
      "Epoch 6/100\n",
      "13/13 [==============================] - 0s 2ms/step - loss: 139297.8750\n",
      "Epoch 7/100\n",
      "13/13 [==============================] - 0s 2ms/step - loss: 119759.1172\n",
      "Epoch 8/100\n",
      "13/13 [==============================] - 0s 2ms/step - loss: 102624.7422\n",
      "Epoch 9/100\n",
      "13/13 [==============================] - 0s 2ms/step - loss: 87668.7891\n",
      "Epoch 10/100\n",
      "13/13 [==============================] - 0s 2ms/step - loss: 74298.4609\n",
      "Epoch 11/100\n",
      "13/13 [==============================] - 0s 2ms/step - loss: 62867.1016\n",
      "Epoch 12/100\n",
      "13/13 [==============================] - 0s 2ms/step - loss: 52774.2656\n",
      "Epoch 13/100\n",
      "13/13 [==============================] - 0s 2ms/step - loss: 44140.4648\n",
      "Epoch 14/100\n",
      "13/13 [==============================] - 0s 2ms/step - loss: 36712.8125\n",
      "Epoch 15/100\n",
      "13/13 [==============================] - 0s 2ms/step - loss: 30289.2227\n",
      "Epoch 16/100\n",
      "13/13 [==============================] - 0s 2ms/step - loss: 24994.8125\n",
      "Epoch 17/100\n",
      "13/13 [==============================] - 0s 2ms/step - loss: 20405.4629\n",
      "Epoch 18/100\n",
      "13/13 [==============================] - 0s 2ms/step - loss: 16653.5156\n",
      "Epoch 19/100\n",
      "13/13 [==============================] - 0s 2ms/step - loss: 13543.4053\n",
      "Epoch 20/100\n",
      "13/13 [==============================] - 0s 2ms/step - loss: 10940.7578\n",
      "Epoch 21/100\n",
      "13/13 [==============================] - 0s 2ms/step - loss: 8828.7939\n",
      "Epoch 22/100\n",
      "13/13 [==============================] - 0s 2ms/step - loss: 7105.9658\n",
      "Epoch 23/100\n",
      "13/13 [==============================] - 0s 2ms/step - loss: 5724.5186\n",
      "Epoch 24/100\n",
      "13/13 [==============================] - 0s 2ms/step - loss: 4612.9248\n",
      "Epoch 25/100\n",
      "13/13 [==============================] - 0s 1ms/step - loss: 3711.9919\n",
      "Epoch 26/100\n",
      "13/13 [==============================] - 0s 2ms/step - loss: 3028.2849\n",
      "Epoch 27/100\n",
      "13/13 [==============================] - 0s 2ms/step - loss: 2472.5681\n",
      "Epoch 28/100\n",
      "13/13 [==============================] - 0s 2ms/step - loss: 2033.0591\n",
      "Epoch 29/100\n",
      "13/13 [==============================] - 0s 1ms/step - loss: 1701.6852\n",
      "Epoch 30/100\n",
      "13/13 [==============================] - 0s 2ms/step - loss: 1446.2384\n",
      "Epoch 31/100\n",
      "13/13 [==============================] - 0s 2ms/step - loss: 1250.4274\n",
      "Epoch 32/100\n",
      "13/13 [==============================] - 0s 1ms/step - loss: 1106.4691\n",
      "Epoch 33/100\n",
      "13/13 [==============================] - 0s 1ms/step - loss: 990.7081\n",
      "Epoch 34/100\n",
      "13/13 [==============================] - 0s 2ms/step - loss: 908.5455\n",
      "Epoch 35/100\n",
      "13/13 [==============================] - 0s 2ms/step - loss: 846.6471\n",
      "Epoch 36/100\n",
      "13/13 [==============================] - 0s 1ms/step - loss: 801.9214\n",
      "Epoch 37/100\n",
      "13/13 [==============================] - 0s 2ms/step - loss: 768.7972\n",
      "Epoch 38/100\n",
      "13/13 [==============================] - 0s 1ms/step - loss: 746.2261\n",
      "Epoch 39/100\n",
      "13/13 [==============================] - 0s 1ms/step - loss: 728.7162\n",
      "Epoch 40/100\n",
      "13/13 [==============================] - 0s 1ms/step - loss: 716.1981\n",
      "Epoch 41/100\n",
      "13/13 [==============================] - 0s 1ms/step - loss: 707.5920\n",
      "Epoch 42/100\n",
      "13/13 [==============================] - 0s 1ms/step - loss: 702.3624\n",
      "Epoch 43/100\n",
      "13/13 [==============================] - 0s 1ms/step - loss: 697.3295\n",
      "Epoch 44/100\n",
      "13/13 [==============================] - 0s 1ms/step - loss: 694.7391\n",
      "Epoch 45/100\n",
      "13/13 [==============================] - 0s 1ms/step - loss: 692.4821\n",
      "Epoch 46/100\n",
      "13/13 [==============================] - 0s 1ms/step - loss: 691.0215\n",
      "Epoch 47/100\n",
      "13/13 [==============================] - 0s 1ms/step - loss: 690.3047\n",
      "Epoch 48/100\n",
      "13/13 [==============================] - 0s 2ms/step - loss: 689.3597\n",
      "Epoch 49/100\n",
      "13/13 [==============================] - 0s 1ms/step - loss: 689.1426\n",
      "Epoch 50/100\n",
      "13/13 [==============================] - 0s 1ms/step - loss: 688.5204\n",
      "Epoch 51/100\n",
      "13/13 [==============================] - 0s 1ms/step - loss: 688.3508\n",
      "Epoch 52/100\n",
      "13/13 [==============================] - 0s 1ms/step - loss: 688.0923\n",
      "Epoch 53/100\n",
      "13/13 [==============================] - 0s 1ms/step - loss: 688.1763\n",
      "Epoch 54/100\n",
      "13/13 [==============================] - 0s 3ms/step - loss: 687.7000\n",
      "Epoch 55/100\n",
      "13/13 [==============================] - 0s 2ms/step - loss: 687.5513\n",
      "Epoch 56/100\n",
      "13/13 [==============================] - 0s 2ms/step - loss: 687.4514\n",
      "Epoch 57/100\n",
      "13/13 [==============================] - 0s 2ms/step - loss: 687.3707\n",
      "Epoch 58/100\n",
      "13/13 [==============================] - 0s 1ms/step - loss: 687.2742\n",
      "Epoch 59/100\n",
      "13/13 [==============================] - 0s 1ms/step - loss: 687.1060\n",
      "Epoch 60/100\n",
      "13/13 [==============================] - 0s 1ms/step - loss: 687.0253\n",
      "Epoch 61/100\n",
      "13/13 [==============================] - 0s 1ms/step - loss: 686.9755\n",
      "Epoch 62/100\n",
      "13/13 [==============================] - 0s 1ms/step - loss: 686.8293\n",
      "Epoch 63/100\n",
      "13/13 [==============================] - 0s 1ms/step - loss: 686.9288\n",
      "Epoch 64/100\n",
      "13/13 [==============================] - 0s 1ms/step - loss: 686.5585\n",
      "Epoch 65/100\n",
      "13/13 [==============================] - 0s 1ms/step - loss: 686.4094\n",
      "Epoch 66/100\n",
      "13/13 [==============================] - 0s 1ms/step - loss: 686.2806\n",
      "Epoch 67/100\n",
      "13/13 [==============================] - 0s 1ms/step - loss: 686.1553\n",
      "Epoch 68/100\n",
      "13/13 [==============================] - 0s 1ms/step - loss: 686.0150\n",
      "Epoch 69/100\n",
      "13/13 [==============================] - 0s 1ms/step - loss: 685.8909\n",
      "Epoch 70/100\n",
      "13/13 [==============================] - 0s 1ms/step - loss: 685.8156\n",
      "Epoch 71/100\n",
      "13/13 [==============================] - 0s 1ms/step - loss: 685.7148\n",
      "Epoch 72/100\n",
      "13/13 [==============================] - 0s 1ms/step - loss: 685.6097\n",
      "Epoch 73/100\n",
      "13/13 [==============================] - 0s 1ms/step - loss: 685.4302\n",
      "Epoch 74/100\n",
      "13/13 [==============================] - 0s 2ms/step - loss: 685.2141\n",
      "Epoch 75/100\n",
      "13/13 [==============================] - 0s 1ms/step - loss: 685.2808\n",
      "Epoch 76/100\n",
      "13/13 [==============================] - 0s 1ms/step - loss: 684.9498\n",
      "Epoch 77/100\n",
      "13/13 [==============================] - 0s 1ms/step - loss: 684.8201\n",
      "Epoch 78/100\n",
      "13/13 [==============================] - 0s 1ms/step - loss: 684.7575\n",
      "Epoch 79/100\n",
      "13/13 [==============================] - 0s 2ms/step - loss: 684.6716\n",
      "Epoch 80/100\n",
      "13/13 [==============================] - 0s 2ms/step - loss: 684.5184\n",
      "Epoch 81/100\n",
      "13/13 [==============================] - 0s 2ms/step - loss: 684.4094\n",
      "Epoch 82/100\n",
      "13/13 [==============================] - 0s 2ms/step - loss: 684.2690\n",
      "Epoch 83/100\n",
      "13/13 [==============================] - 0s 2ms/step - loss: 684.0929\n",
      "Epoch 84/100\n",
      "13/13 [==============================] - 0s 1ms/step - loss: 684.0934\n",
      "Epoch 85/100\n",
      "13/13 [==============================] - 0s 2ms/step - loss: 683.8203\n",
      "Epoch 86/100\n",
      "13/13 [==============================] - 0s 1ms/step - loss: 683.7679\n",
      "Epoch 87/100\n",
      "13/13 [==============================] - 0s 1ms/step - loss: 683.4487\n",
      "Epoch 88/100\n",
      "13/13 [==============================] - 0s 1000us/step - loss: 683.4619\n",
      "Epoch 89/100\n",
      "13/13 [==============================] - 0s 1ms/step - loss: 683.2813\n",
      "Epoch 90/100\n",
      "13/13 [==============================] - 0s 1ms/step - loss: 683.1536\n",
      "Epoch 91/100\n",
      "13/13 [==============================] - 0s 1ms/step - loss: 682.9186\n",
      "Epoch 92/100\n",
      "13/13 [==============================] - 0s 1000us/step - loss: 682.9216\n",
      "Epoch 93/100\n",
      "13/13 [==============================] - 0s 1000us/step - loss: 682.6437\n",
      "Epoch 94/100\n",
      "13/13 [==============================] - 0s 1ms/step - loss: 682.4620\n",
      "Epoch 95/100\n",
      "13/13 [==============================] - 0s 1ms/step - loss: 682.3848\n",
      "Epoch 96/100\n",
      "13/13 [==============================] - 0s 1ms/step - loss: 682.3304\n",
      "Epoch 97/100\n",
      "13/13 [==============================] - 0s 1ms/step - loss: 682.0772\n",
      "Epoch 98/100\n",
      "13/13 [==============================] - 0s 1ms/step - loss: 681.8254\n"
     ]
    },
    {
     "name": "stdout",
     "output_type": "stream",
     "text": [
      "Epoch 99/100\n",
      "13/13 [==============================] - 0s 1ms/step - loss: 681.6718\n",
      "Epoch 100/100\n",
      "13/13 [==============================] - 0s 1ms/step - loss: 681.6379\n"
     ]
    }
   ],
   "source": [
    "# Treinamento\n",
    "epochs_hist = model.fit(X_train, y_train, epochs = 100)"
   ]
  },
  {
   "cell_type": "markdown",
   "metadata": {
    "id": "-wRQqOeB5Zh5"
   },
   "source": [
    "# Etapa 6: Avaliação do modelo "
   ]
  },
  {
   "cell_type": "code",
   "execution_count": 78,
   "metadata": {
    "colab": {
     "base_uri": "https://localhost:8080/",
     "height": 35
    },
    "id": "dfUb63035TJL",
    "outputId": "c3883b89-4443-468e-c2a3-541e6c7949f5"
   },
   "outputs": [
    {
     "data": {
      "text/plain": [
       "dict_keys(['loss'])"
      ]
     },
     "execution_count": 78,
     "metadata": {},
     "output_type": "execute_result"
    }
   ],
   "source": [
    "# Visualização do dicionário com os resultados\n",
    "epochs_hist.history.keys()"
   ]
  },
  {
   "cell_type": "code",
   "execution_count": 80,
   "metadata": {
    "colab": {
     "base_uri": "https://localhost:8080/",
     "height": 295
    },
    "id": "eXiDop_l5erJ",
    "outputId": "987f36b6-1761-407a-dd97-a04cc6229325"
   },
   "outputs": [
    {
     "data": {
      "image/png": "[encoded data removed]",
      "text/plain": [
       "<Figure size 432x288 with 1 Axes>"
      ]
     },
     "metadata": {
      "needs_background": "light"
     },
     "output_type": "display_data"
    }
   ],
   "source": [
    "# Gráfico com os resultados da loss function\n",
    "plt.plot(epochs_hist.history['loss'])\n",
    "plt.title('Model Loss Progress During Training')\n",
    "plt.xlabel('Epoch')\n",
    "plt.ylabel('Training loss')\n",
    "plt.legend(['Training loss']);"
   ]
  },
  {
   "cell_type": "code",
   "execution_count": 34,
   "metadata": {
    "colab": {
     "base_uri": "https://localhost:8080/",
     "height": 35
    },
    "id": "yFYpuUJWBn6L",
    "outputId": "333f35ab-46f5-4c37-a3ea-cbf17608e1c5"
   },
   "outputs": [
    {
     "data": {
      "text/plain": [
       "[array([[22.196814]], dtype=float32), array([26.72649], dtype=float32)]"
      ]
     },
     "execution_count": 34,
     "metadata": {},
     "output_type": "execute_result"
    }
   ],
   "source": [
    "# Visualização dos pesos\n",
    "model.get_weights()"
   ]
  },
  {
   "cell_type": "code",
   "execution_count": 41,
   "metadata": {
    "scrolled": true
   },
   "outputs": [
    {
     "data": {
      "image/png": "[encoded data removed]",
      "text/plain": [
       "<Figure size 432x288 with 1 Axes>"
      ]
     },
     "metadata": {
      "needs_background": "light"
     },
     "output_type": "display_data"
    }
   ],
   "source": [
    "sns.scatterplot(x=df['Temperature'], y=df['Revenue'])\n",
    "\n",
    "y_pred = model.predict(X_train)\n",
    "x_new = np.linspace(-50,60,30)\n",
    "\n",
    "plt.plot(X_train,y_pred.ravel(),color = 'red')\n",
    "plt.legend(labels=[\"Regress\",\"Data\"]); "
   ]
  },
  {
   "cell_type": "code",
   "execution_count": 43,
   "metadata": {
    "scrolled": true
   },
   "outputs": [
    {
     "data": {
      "image/png": "[encoded data removed]",
      "text/plain": [
       "<Figure size 432x288 with 1 Axes>"
      ]
     },
     "metadata": {
      "needs_background": "light"
     },
     "output_type": "display_data"
    }
   ],
   "source": [
    "sns.scatterplot(x=X_test, y=y_test)\n",
    "\n",
    "y_pred = model.predict(X_test)\n",
    "x_new = np.linspace(-50,60,30)\n",
    "\n",
    "plt.plot(X_test,y_pred.ravel(),color = 'red')\n",
    "plt.legend(labels=[\"Regress\",\"Data\"]);"
   ]
  },
  {
   "cell_type": "markdown",
   "metadata": {
    "id": "_dXoZAtVcbfA"
   },
   "source": [
    "# Etapa 7: Confirmar os resultados usando sklearn"
   ]
  },
  {
   "cell_type": "code",
   "execution_count": null,
   "metadata": {
    "id": "ybYof7hSdM5I"
   },
   "outputs": [],
   "source": [
    "# Usar o sklearn para obter os mesmos resultados"
   ]
  },
  {
   "cell_type": "code",
   "execution_count": 92,
   "metadata": {},
   "outputs": [],
   "source": [
    "X_train = X_train.values.reshape(-1,1)\n",
    "y_train = y_train.values.reshape(-1,1)"
   ]
  },
  {
   "cell_type": "code",
   "execution_count": 87,
   "metadata": {},
   "outputs": [],
   "source": [
    "regr = LinearRegression()\n",
    "regr.fit(X_train,y_train)"
   ]
  },
  {
   "cell_type": "code",
   "execution_count": 97,
   "metadata": {},
   "outputs": [
    {
     "name": "stdout",
     "output_type": "stream",
     "text": [
      "[[21.48142776]]\n",
      "[44.43176016]\n"
     ]
    }
   ],
   "source": [
    "print(regr.coef_)\n",
    "print(regr.intercept_)"
   ]
  },
  {
   "cell_type": "code",
   "execution_count": 101,
   "metadata": {},
   "outputs": [
    {
     "data": {
      "text/plain": [
       "Text(0.5, 1.0, 'Revenue Vs temperature')"
      ]
     },
     "execution_count": 101,
     "metadata": {},
     "output_type": "execute_result"
    },
    {
     "data": {
      "image/png": "[encoded data removed]",
      "text/plain": [
       "<Figure size 432x288 with 1 Axes>"
      ]
     },
     "metadata": {
      "needs_background": "light"
     },
     "output_type": "display_data"
    }
   ],
   "source": [
    "plt.scatter(X_train, y_train, color = 'gray')\n",
    "plt.plot(X_train, regr.predict(X_train), color = 'red')\n",
    "plt.ylabel(\"Revenue\")\n",
    "plt.xlabel(\"Temperature\")\n",
    "plt.title(\"Revenue Vs temperature\")"
   ]
  }
 ],
 "metadata": {
  "accelerator": "GPU",
  "colab": {
   "collapsed_sections": [],
   "name": "Projeto #2 - TAREFA: Previsão de Lucros (sorvetes).ipynb",
   "provenance": []
  },
  "kernelspec": {
   "display_name": "Python 3 (ipykernel)",
   "language": "python",
   "name": "python3"
  },
  "language_info": {
   "codemirror_mode": {
    "name": "ipython",
    "version": 3
   },
   "file_extension": ".py",
   "mimetype": "text/x-python",
   "name": "python",
   "nbconvert_exporter": "python",
   "pygments_lexer": "ipython3",
   "version": "3.9.7"
  }
 },
 "nbformat": 4,
 "nbformat_minor": 1
}
