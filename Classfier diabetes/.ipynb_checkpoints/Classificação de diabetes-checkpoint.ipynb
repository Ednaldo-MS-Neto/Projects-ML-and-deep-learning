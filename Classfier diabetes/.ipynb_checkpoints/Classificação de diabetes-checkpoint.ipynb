{
 "cells": [
  {
   "cell_type": "markdown",
   "metadata": {
    "id": "M27qF7CTrBqc"
   },
   "source": [
    "# Projeto #6: Classificação de diabetes"
   ]
  },
  {
   "cell_type": "markdown",
   "metadata": {
    "id": "xNl52nl3qiyL"
   },
   "source": [
    "- Base de dados\n",
    "Smith, J.W., Everhart, J.E., Dickson, W.C., Knowler, W.C., & Johannes, R.S. (1988). Using the ADAP learning algorithm to forecast the onset of diabetes mellitus. In Proceedings of the Symposium on Computer Applications and Medical Care (pp. 261--265). IEEE Computer Society Press."
   ]
  },
  {
   "cell_type": "markdown",
   "metadata": {
    "id": "zKmFmyaGunc7"
   },
   "source": [
    "# Etapa 1: Importação das bibliotecas"
   ]
  },
  {
   "cell_type": "code",
   "execution_count": 1,
   "metadata": {
    "colab": {
     "base_uri": "https://localhost:8080/",
     "height": 52
    },
    "id": "S0Cx3743urFY",
    "outputId": "60032ce2-c72b-455b-e2c2-9670d0c417ea"
   },
   "outputs": [
    {
     "data": {
      "text/plain": [
       "'2.8.0'"
      ]
     },
     "execution_count": 1,
     "metadata": {},
     "output_type": "execute_result"
    }
   ],
   "source": [
    "import tensorflow as tf\n",
    "import pandas as pd\n",
    "import numpy as np\n",
    "import seaborn as sns\n",
    "import matplotlib.pyplot as plt\n",
    "\n",
    "from sklearn.preprocessing import StandardScaler\n",
    "from sklearn.model_selection import train_test_split\n",
    "from sklearn.metrics import confusion_matrix, classification_report\n",
    "\n",
    "\n",
    "tf.__version__"
   ]
  },
  {
   "cell_type": "markdown",
   "metadata": {
    "id": "uAE6Icc0uylP"
   },
   "source": [
    "# Etapa 2: Importação da base de dados"
   ]
  },
  {
   "cell_type": "code",
   "execution_count": 2,
   "metadata": {
    "id": "tjIiJdM4u1IE"
   },
   "outputs": [],
   "source": [
    "diabetes = pd.read_csv('diabetes.csv')"
   ]
  },
  {
   "cell_type": "code",
   "execution_count": 3,
   "metadata": {
    "colab": {
     "base_uri": "https://localhost:8080/",
     "height": 407
    },
    "id": "q4_wPDKCu5Uc",
    "outputId": "983aa406-20fe-49bb-cb76-0e0c6f48a73b"
   },
   "outputs": [
    {
     "data": {
      "text/html": [
       "<div>\n",
       "<style scoped>\n",
       "    .dataframe tbody tr th:only-of-type {\n",
       "        vertical-align: middle;\n",
       "    }\n",
       "\n",
       "    .dataframe tbody tr th {\n",
       "        vertical-align: top;\n",
       "    }\n",
       "\n",
       "    .dataframe thead th {\n",
       "        text-align: right;\n",
       "    }\n",
       "</style>\n",
       "<table border=\"1\" class=\"dataframe\">\n",
       "  <thead>\n",
       "    <tr style=\"text-align: right;\">\n",
       "      <th></th>\n",
       "      <th>Pregnancies</th>\n",
       "      <th>Glucose</th>\n",
       "      <th>BloodPressure</th>\n",
       "      <th>SkinThickness</th>\n",
       "      <th>Insulin</th>\n",
       "      <th>BMI</th>\n",
       "      <th>DiabetesPedigreeFunction</th>\n",
       "      <th>Age</th>\n",
       "      <th>Outcome</th>\n",
       "    </tr>\n",
       "  </thead>\n",
       "  <tbody>\n",
       "    <tr>\n",
       "      <th>0</th>\n",
       "      <td>6</td>\n",
       "      <td>148</td>\n",
       "      <td>72</td>\n",
       "      <td>35</td>\n",
       "      <td>0</td>\n",
       "      <td>33.6</td>\n",
       "      <td>0.627</td>\n",
       "      <td>50</td>\n",
       "      <td>1</td>\n",
       "    </tr>\n",
       "    <tr>\n",
       "      <th>1</th>\n",
       "      <td>1</td>\n",
       "      <td>85</td>\n",
       "      <td>66</td>\n",
       "      <td>29</td>\n",
       "      <td>0</td>\n",
       "      <td>26.6</td>\n",
       "      <td>0.351</td>\n",
       "      <td>31</td>\n",
       "      <td>0</td>\n",
       "    </tr>\n",
       "    <tr>\n",
       "      <th>2</th>\n",
       "      <td>8</td>\n",
       "      <td>183</td>\n",
       "      <td>64</td>\n",
       "      <td>0</td>\n",
       "      <td>0</td>\n",
       "      <td>23.3</td>\n",
       "      <td>0.672</td>\n",
       "      <td>32</td>\n",
       "      <td>1</td>\n",
       "    </tr>\n",
       "    <tr>\n",
       "      <th>3</th>\n",
       "      <td>1</td>\n",
       "      <td>89</td>\n",
       "      <td>66</td>\n",
       "      <td>23</td>\n",
       "      <td>94</td>\n",
       "      <td>28.1</td>\n",
       "      <td>0.167</td>\n",
       "      <td>21</td>\n",
       "      <td>0</td>\n",
       "    </tr>\n",
       "    <tr>\n",
       "      <th>4</th>\n",
       "      <td>0</td>\n",
       "      <td>137</td>\n",
       "      <td>40</td>\n",
       "      <td>35</td>\n",
       "      <td>168</td>\n",
       "      <td>43.1</td>\n",
       "      <td>2.288</td>\n",
       "      <td>33</td>\n",
       "      <td>1</td>\n",
       "    </tr>\n",
       "    <tr>\n",
       "      <th>...</th>\n",
       "      <td>...</td>\n",
       "      <td>...</td>\n",
       "      <td>...</td>\n",
       "      <td>...</td>\n",
       "      <td>...</td>\n",
       "      <td>...</td>\n",
       "      <td>...</td>\n",
       "      <td>...</td>\n",
       "      <td>...</td>\n",
       "    </tr>\n",
       "    <tr>\n",
       "      <th>763</th>\n",
       "      <td>10</td>\n",
       "      <td>101</td>\n",
       "      <td>76</td>\n",
       "      <td>48</td>\n",
       "      <td>180</td>\n",
       "      <td>32.9</td>\n",
       "      <td>0.171</td>\n",
       "      <td>63</td>\n",
       "      <td>0</td>\n",
       "    </tr>\n",
       "    <tr>\n",
       "      <th>764</th>\n",
       "      <td>2</td>\n",
       "      <td>122</td>\n",
       "      <td>70</td>\n",
       "      <td>27</td>\n",
       "      <td>0</td>\n",
       "      <td>36.8</td>\n",
       "      <td>0.340</td>\n",
       "      <td>27</td>\n",
       "      <td>0</td>\n",
       "    </tr>\n",
       "    <tr>\n",
       "      <th>765</th>\n",
       "      <td>5</td>\n",
       "      <td>121</td>\n",
       "      <td>72</td>\n",
       "      <td>23</td>\n",
       "      <td>112</td>\n",
       "      <td>26.2</td>\n",
       "      <td>0.245</td>\n",
       "      <td>30</td>\n",
       "      <td>0</td>\n",
       "    </tr>\n",
       "    <tr>\n",
       "      <th>766</th>\n",
       "      <td>1</td>\n",
       "      <td>126</td>\n",
       "      <td>60</td>\n",
       "      <td>0</td>\n",
       "      <td>0</td>\n",
       "      <td>30.1</td>\n",
       "      <td>0.349</td>\n",
       "      <td>47</td>\n",
       "      <td>1</td>\n",
       "    </tr>\n",
       "    <tr>\n",
       "      <th>767</th>\n",
       "      <td>1</td>\n",
       "      <td>93</td>\n",
       "      <td>70</td>\n",
       "      <td>31</td>\n",
       "      <td>0</td>\n",
       "      <td>30.4</td>\n",
       "      <td>0.315</td>\n",
       "      <td>23</td>\n",
       "      <td>0</td>\n",
       "    </tr>\n",
       "  </tbody>\n",
       "</table>\n",
       "<p>768 rows × 9 columns</p>\n",
       "</div>"
      ],
      "text/plain": [
       "     Pregnancies  Glucose  BloodPressure  SkinThickness  Insulin   BMI  \\\n",
       "0              6      148             72             35        0  33.6   \n",
       "1              1       85             66             29        0  26.6   \n",
       "2              8      183             64              0        0  23.3   \n",
       "3              1       89             66             23       94  28.1   \n",
       "4              0      137             40             35      168  43.1   \n",
       "..           ...      ...            ...            ...      ...   ...   \n",
       "763           10      101             76             48      180  32.9   \n",
       "764            2      122             70             27        0  36.8   \n",
       "765            5      121             72             23      112  26.2   \n",
       "766            1      126             60              0        0  30.1   \n",
       "767            1       93             70             31        0  30.4   \n",
       "\n",
       "     DiabetesPedigreeFunction  Age  Outcome  \n",
       "0                       0.627   50        1  \n",
       "1                       0.351   31        0  \n",
       "2                       0.672   32        1  \n",
       "3                       0.167   21        0  \n",
       "4                       2.288   33        1  \n",
       "..                        ...  ...      ...  \n",
       "763                     0.171   63        0  \n",
       "764                     0.340   27        0  \n",
       "765                     0.245   30        0  \n",
       "766                     0.349   47        1  \n",
       "767                     0.315   23        0  \n",
       "\n",
       "[768 rows x 9 columns]"
      ]
     },
     "execution_count": 3,
     "metadata": {},
     "output_type": "execute_result"
    }
   ],
   "source": [
    "diabetes"
   ]
  },
  {
   "cell_type": "code",
   "execution_count": 4,
   "metadata": {
    "colab": {
     "base_uri": "https://localhost:8080/",
     "height": 198
    },
    "id": "E7puy9-xxS4A",
    "outputId": "4d1e9e4d-0796-434c-bb23-a42d4dbfd343"
   },
   "outputs": [
    {
     "data": {
      "text/html": [
       "<div>\n",
       "<style scoped>\n",
       "    .dataframe tbody tr th:only-of-type {\n",
       "        vertical-align: middle;\n",
       "    }\n",
       "\n",
       "    .dataframe tbody tr th {\n",
       "        vertical-align: top;\n",
       "    }\n",
       "\n",
       "    .dataframe thead th {\n",
       "        text-align: right;\n",
       "    }\n",
       "</style>\n",
       "<table border=\"1\" class=\"dataframe\">\n",
       "  <thead>\n",
       "    <tr style=\"text-align: right;\">\n",
       "      <th></th>\n",
       "      <th>Pregnancies</th>\n",
       "      <th>Glucose</th>\n",
       "      <th>BloodPressure</th>\n",
       "      <th>SkinThickness</th>\n",
       "      <th>Insulin</th>\n",
       "      <th>BMI</th>\n",
       "      <th>DiabetesPedigreeFunction</th>\n",
       "      <th>Age</th>\n",
       "      <th>Outcome</th>\n",
       "    </tr>\n",
       "  </thead>\n",
       "  <tbody>\n",
       "    <tr>\n",
       "      <th>0</th>\n",
       "      <td>6</td>\n",
       "      <td>148</td>\n",
       "      <td>72</td>\n",
       "      <td>35</td>\n",
       "      <td>0</td>\n",
       "      <td>33.6</td>\n",
       "      <td>0.627</td>\n",
       "      <td>50</td>\n",
       "      <td>1</td>\n",
       "    </tr>\n",
       "    <tr>\n",
       "      <th>1</th>\n",
       "      <td>1</td>\n",
       "      <td>85</td>\n",
       "      <td>66</td>\n",
       "      <td>29</td>\n",
       "      <td>0</td>\n",
       "      <td>26.6</td>\n",
       "      <td>0.351</td>\n",
       "      <td>31</td>\n",
       "      <td>0</td>\n",
       "    </tr>\n",
       "    <tr>\n",
       "      <th>2</th>\n",
       "      <td>8</td>\n",
       "      <td>183</td>\n",
       "      <td>64</td>\n",
       "      <td>0</td>\n",
       "      <td>0</td>\n",
       "      <td>23.3</td>\n",
       "      <td>0.672</td>\n",
       "      <td>32</td>\n",
       "      <td>1</td>\n",
       "    </tr>\n",
       "    <tr>\n",
       "      <th>3</th>\n",
       "      <td>1</td>\n",
       "      <td>89</td>\n",
       "      <td>66</td>\n",
       "      <td>23</td>\n",
       "      <td>94</td>\n",
       "      <td>28.1</td>\n",
       "      <td>0.167</td>\n",
       "      <td>21</td>\n",
       "      <td>0</td>\n",
       "    </tr>\n",
       "    <tr>\n",
       "      <th>4</th>\n",
       "      <td>0</td>\n",
       "      <td>137</td>\n",
       "      <td>40</td>\n",
       "      <td>35</td>\n",
       "      <td>168</td>\n",
       "      <td>43.1</td>\n",
       "      <td>2.288</td>\n",
       "      <td>33</td>\n",
       "      <td>1</td>\n",
       "    </tr>\n",
       "  </tbody>\n",
       "</table>\n",
       "</div>"
      ],
      "text/plain": [
       "   Pregnancies  Glucose  BloodPressure  SkinThickness  Insulin   BMI  \\\n",
       "0            6      148             72             35        0  33.6   \n",
       "1            1       85             66             29        0  26.6   \n",
       "2            8      183             64              0        0  23.3   \n",
       "3            1       89             66             23       94  28.1   \n",
       "4            0      137             40             35      168  43.1   \n",
       "\n",
       "   DiabetesPedigreeFunction  Age  Outcome  \n",
       "0                     0.627   50        1  \n",
       "1                     0.351   31        0  \n",
       "2                     0.672   32        1  \n",
       "3                     0.167   21        0  \n",
       "4                     2.288   33        1  "
      ]
     },
     "execution_count": 4,
     "metadata": {},
     "output_type": "execute_result"
    }
   ],
   "source": [
    "diabetes.head()"
   ]
  },
  {
   "cell_type": "code",
   "execution_count": 5,
   "metadata": {
    "colab": {
     "base_uri": "https://localhost:8080/",
     "height": 198
    },
    "id": "RUt2ON_UxyYk",
    "outputId": "55831d9c-5e4a-4202-e9c2-24394c5a3a65"
   },
   "outputs": [
    {
     "data": {
      "text/html": [
       "<div>\n",
       "<style scoped>\n",
       "    .dataframe tbody tr th:only-of-type {\n",
       "        vertical-align: middle;\n",
       "    }\n",
       "\n",
       "    .dataframe tbody tr th {\n",
       "        vertical-align: top;\n",
       "    }\n",
       "\n",
       "    .dataframe thead th {\n",
       "        text-align: right;\n",
       "    }\n",
       "</style>\n",
       "<table border=\"1\" class=\"dataframe\">\n",
       "  <thead>\n",
       "    <tr style=\"text-align: right;\">\n",
       "      <th></th>\n",
       "      <th>Pregnancies</th>\n",
       "      <th>Glucose</th>\n",
       "      <th>BloodPressure</th>\n",
       "      <th>SkinThickness</th>\n",
       "      <th>Insulin</th>\n",
       "      <th>BMI</th>\n",
       "      <th>DiabetesPedigreeFunction</th>\n",
       "      <th>Age</th>\n",
       "      <th>Outcome</th>\n",
       "    </tr>\n",
       "  </thead>\n",
       "  <tbody>\n",
       "    <tr>\n",
       "      <th>763</th>\n",
       "      <td>10</td>\n",
       "      <td>101</td>\n",
       "      <td>76</td>\n",
       "      <td>48</td>\n",
       "      <td>180</td>\n",
       "      <td>32.9</td>\n",
       "      <td>0.171</td>\n",
       "      <td>63</td>\n",
       "      <td>0</td>\n",
       "    </tr>\n",
       "    <tr>\n",
       "      <th>764</th>\n",
       "      <td>2</td>\n",
       "      <td>122</td>\n",
       "      <td>70</td>\n",
       "      <td>27</td>\n",
       "      <td>0</td>\n",
       "      <td>36.8</td>\n",
       "      <td>0.340</td>\n",
       "      <td>27</td>\n",
       "      <td>0</td>\n",
       "    </tr>\n",
       "    <tr>\n",
       "      <th>765</th>\n",
       "      <td>5</td>\n",
       "      <td>121</td>\n",
       "      <td>72</td>\n",
       "      <td>23</td>\n",
       "      <td>112</td>\n",
       "      <td>26.2</td>\n",
       "      <td>0.245</td>\n",
       "      <td>30</td>\n",
       "      <td>0</td>\n",
       "    </tr>\n",
       "    <tr>\n",
       "      <th>766</th>\n",
       "      <td>1</td>\n",
       "      <td>126</td>\n",
       "      <td>60</td>\n",
       "      <td>0</td>\n",
       "      <td>0</td>\n",
       "      <td>30.1</td>\n",
       "      <td>0.349</td>\n",
       "      <td>47</td>\n",
       "      <td>1</td>\n",
       "    </tr>\n",
       "    <tr>\n",
       "      <th>767</th>\n",
       "      <td>1</td>\n",
       "      <td>93</td>\n",
       "      <td>70</td>\n",
       "      <td>31</td>\n",
       "      <td>0</td>\n",
       "      <td>30.4</td>\n",
       "      <td>0.315</td>\n",
       "      <td>23</td>\n",
       "      <td>0</td>\n",
       "    </tr>\n",
       "  </tbody>\n",
       "</table>\n",
       "</div>"
      ],
      "text/plain": [
       "     Pregnancies  Glucose  BloodPressure  SkinThickness  Insulin   BMI  \\\n",
       "763           10      101             76             48      180  32.9   \n",
       "764            2      122             70             27        0  36.8   \n",
       "765            5      121             72             23      112  26.2   \n",
       "766            1      126             60              0        0  30.1   \n",
       "767            1       93             70             31        0  30.4   \n",
       "\n",
       "     DiabetesPedigreeFunction  Age  Outcome  \n",
       "763                     0.171   63        0  \n",
       "764                     0.340   27        0  \n",
       "765                     0.245   30        0  \n",
       "766                     0.349   47        1  \n",
       "767                     0.315   23        0  "
      ]
     },
     "execution_count": 5,
     "metadata": {},
     "output_type": "execute_result"
    }
   ],
   "source": [
    "diabetes.tail()"
   ]
  },
  {
   "cell_type": "code",
   "execution_count": 6,
   "metadata": {
    "colab": {
     "base_uri": "https://localhost:8080/",
     "height": 259
    },
    "id": "hMq3-KWOx0e1",
    "outputId": "1f35a288-bdf8-41bb-9bb7-fb8c7d690dec"
   },
   "outputs": [
    {
     "name": "stdout",
     "output_type": "stream",
     "text": [
      "<class 'pandas.core.frame.DataFrame'>\n",
      "RangeIndex: 768 entries, 0 to 767\n",
      "Data columns (total 9 columns):\n",
      " #   Column                    Non-Null Count  Dtype  \n",
      "---  ------                    --------------  -----  \n",
      " 0   Pregnancies               768 non-null    int64  \n",
      " 1   Glucose                   768 non-null    int64  \n",
      " 2   BloodPressure             768 non-null    int64  \n",
      " 3   SkinThickness             768 non-null    int64  \n",
      " 4   Insulin                   768 non-null    int64  \n",
      " 5   BMI                       768 non-null    float64\n",
      " 6   DiabetesPedigreeFunction  768 non-null    float64\n",
      " 7   Age                       768 non-null    int64  \n",
      " 8   Outcome                   768 non-null    int64  \n",
      "dtypes: float64(2), int64(7)\n",
      "memory usage: 54.1 KB\n"
     ]
    }
   ],
   "source": [
    "diabetes.info()"
   ]
  },
  {
   "cell_type": "code",
   "execution_count": 7,
   "metadata": {
    "colab": {
     "base_uri": "https://localhost:8080/",
     "height": 288
    },
    "id": "s0E9xPLdx2Ok",
    "outputId": "c37ebaea-7ee1-41e3-af47-d7c1ec1a0e33"
   },
   "outputs": [
    {
     "data": {
      "text/html": [
       "<div>\n",
       "<style scoped>\n",
       "    .dataframe tbody tr th:only-of-type {\n",
       "        vertical-align: middle;\n",
       "    }\n",
       "\n",
       "    .dataframe tbody tr th {\n",
       "        vertical-align: top;\n",
       "    }\n",
       "\n",
       "    .dataframe thead th {\n",
       "        text-align: right;\n",
       "    }\n",
       "</style>\n",
       "<table border=\"1\" class=\"dataframe\">\n",
       "  <thead>\n",
       "    <tr style=\"text-align: right;\">\n",
       "      <th></th>\n",
       "      <th>Pregnancies</th>\n",
       "      <th>Glucose</th>\n",
       "      <th>BloodPressure</th>\n",
       "      <th>SkinThickness</th>\n",
       "      <th>Insulin</th>\n",
       "      <th>BMI</th>\n",
       "      <th>DiabetesPedigreeFunction</th>\n",
       "      <th>Age</th>\n",
       "      <th>Outcome</th>\n",
       "    </tr>\n",
       "  </thead>\n",
       "  <tbody>\n",
       "    <tr>\n",
       "      <th>count</th>\n",
       "      <td>768.000000</td>\n",
       "      <td>768.000000</td>\n",
       "      <td>768.000000</td>\n",
       "      <td>768.000000</td>\n",
       "      <td>768.000000</td>\n",
       "      <td>768.000000</td>\n",
       "      <td>768.000000</td>\n",
       "      <td>768.000000</td>\n",
       "      <td>768.000000</td>\n",
       "    </tr>\n",
       "    <tr>\n",
       "      <th>mean</th>\n",
       "      <td>3.845052</td>\n",
       "      <td>120.894531</td>\n",
       "      <td>69.105469</td>\n",
       "      <td>20.536458</td>\n",
       "      <td>79.799479</td>\n",
       "      <td>31.992578</td>\n",
       "      <td>0.471876</td>\n",
       "      <td>33.240885</td>\n",
       "      <td>0.348958</td>\n",
       "    </tr>\n",
       "    <tr>\n",
       "      <th>std</th>\n",
       "      <td>3.369578</td>\n",
       "      <td>31.972618</td>\n",
       "      <td>19.355807</td>\n",
       "      <td>15.952218</td>\n",
       "      <td>115.244002</td>\n",
       "      <td>7.884160</td>\n",
       "      <td>0.331329</td>\n",
       "      <td>11.760232</td>\n",
       "      <td>0.476951</td>\n",
       "    </tr>\n",
       "    <tr>\n",
       "      <th>min</th>\n",
       "      <td>0.000000</td>\n",
       "      <td>0.000000</td>\n",
       "      <td>0.000000</td>\n",
       "      <td>0.000000</td>\n",
       "      <td>0.000000</td>\n",
       "      <td>0.000000</td>\n",
       "      <td>0.078000</td>\n",
       "      <td>21.000000</td>\n",
       "      <td>0.000000</td>\n",
       "    </tr>\n",
       "    <tr>\n",
       "      <th>25%</th>\n",
       "      <td>1.000000</td>\n",
       "      <td>99.000000</td>\n",
       "      <td>62.000000</td>\n",
       "      <td>0.000000</td>\n",
       "      <td>0.000000</td>\n",
       "      <td>27.300000</td>\n",
       "      <td>0.243750</td>\n",
       "      <td>24.000000</td>\n",
       "      <td>0.000000</td>\n",
       "    </tr>\n",
       "    <tr>\n",
       "      <th>50%</th>\n",
       "      <td>3.000000</td>\n",
       "      <td>117.000000</td>\n",
       "      <td>72.000000</td>\n",
       "      <td>23.000000</td>\n",
       "      <td>30.500000</td>\n",
       "      <td>32.000000</td>\n",
       "      <td>0.372500</td>\n",
       "      <td>29.000000</td>\n",
       "      <td>0.000000</td>\n",
       "    </tr>\n",
       "    <tr>\n",
       "      <th>75%</th>\n",
       "      <td>6.000000</td>\n",
       "      <td>140.250000</td>\n",
       "      <td>80.000000</td>\n",
       "      <td>32.000000</td>\n",
       "      <td>127.250000</td>\n",
       "      <td>36.600000</td>\n",
       "      <td>0.626250</td>\n",
       "      <td>41.000000</td>\n",
       "      <td>1.000000</td>\n",
       "    </tr>\n",
       "    <tr>\n",
       "      <th>max</th>\n",
       "      <td>17.000000</td>\n",
       "      <td>199.000000</td>\n",
       "      <td>122.000000</td>\n",
       "      <td>99.000000</td>\n",
       "      <td>846.000000</td>\n",
       "      <td>67.100000</td>\n",
       "      <td>2.420000</td>\n",
       "      <td>81.000000</td>\n",
       "      <td>1.000000</td>\n",
       "    </tr>\n",
       "  </tbody>\n",
       "</table>\n",
       "</div>"
      ],
      "text/plain": [
       "       Pregnancies     Glucose  BloodPressure  SkinThickness     Insulin  \\\n",
       "count   768.000000  768.000000     768.000000     768.000000  768.000000   \n",
       "mean      3.845052  120.894531      69.105469      20.536458   79.799479   \n",
       "std       3.369578   31.972618      19.355807      15.952218  115.244002   \n",
       "min       0.000000    0.000000       0.000000       0.000000    0.000000   \n",
       "25%       1.000000   99.000000      62.000000       0.000000    0.000000   \n",
       "50%       3.000000  117.000000      72.000000      23.000000   30.500000   \n",
       "75%       6.000000  140.250000      80.000000      32.000000  127.250000   \n",
       "max      17.000000  199.000000     122.000000      99.000000  846.000000   \n",
       "\n",
       "              BMI  DiabetesPedigreeFunction         Age     Outcome  \n",
       "count  768.000000                768.000000  768.000000  768.000000  \n",
       "mean    31.992578                  0.471876   33.240885    0.348958  \n",
       "std      7.884160                  0.331329   11.760232    0.476951  \n",
       "min      0.000000                  0.078000   21.000000    0.000000  \n",
       "25%     27.300000                  0.243750   24.000000    0.000000  \n",
       "50%     32.000000                  0.372500   29.000000    0.000000  \n",
       "75%     36.600000                  0.626250   41.000000    1.000000  \n",
       "max     67.100000                  2.420000   81.000000    1.000000  "
      ]
     },
     "execution_count": 7,
     "metadata": {},
     "output_type": "execute_result"
    }
   ],
   "source": [
    "diabetes.describe()"
   ]
  },
  {
   "cell_type": "markdown",
   "metadata": {
    "id": "LlszUhNNyrl_"
   },
   "source": [
    "# Etapa 3: Limpeza e visualização dos dados"
   ]
  },
  {
   "cell_type": "code",
   "execution_count": 8,
   "metadata": {
    "colab": {
     "base_uri": "https://localhost:8080/",
     "height": 279
    },
    "id": "TYcWopZVyvAs",
    "outputId": "ce093f04-611c-41f6-b1b7-7d686643119c"
   },
   "outputs": [
    {
     "data": {
      "image/png": "[encoded data removed]",
      "text/plain": [
       "<Figure size 432x288 with 1 Axes>"
      ]
     },
     "metadata": {
      "needs_background": "light"
     },
     "output_type": "display_data"
    }
   ],
   "source": [
    "#1 =  diabetes\n",
    "#0 = sem diabetes\n",
    "sns.countplot(x = 'Outcome', data = diabetes);"
   ]
  },
  {
   "cell_type": "code",
   "execution_count": 9,
   "metadata": {
    "colab": {
     "base_uri": "https://localhost:8080/",
     "height": 391
    },
    "id": "inP-WwVNkQb9",
    "outputId": "c9aefdf3-e6b2-4474-bf92-ed78e2a9470c"
   },
   "outputs": [
    {
     "data": {
      "image/png": "[encoded data removed]",
      "text/plain": [
       "<Figure size 432x288 with 2 Axes>"
      ]
     },
     "metadata": {
      "needs_background": "light"
     },
     "output_type": "display_data"
    }
   ],
   "source": [
    "sns.heatmap(diabetes.corr(), annot = True);"
   ]
  },
  {
   "cell_type": "code",
   "execution_count": 10,
   "metadata": {
    "id": "YVAY_b7pkQZ8"
   },
   "outputs": [],
   "source": [
    "X = diabetes.iloc[:, :8].values"
   ]
  },
  {
   "cell_type": "code",
   "execution_count": 11,
   "metadata": {
    "colab": {
     "base_uri": "https://localhost:8080/",
     "height": 138
    },
    "id": "K_wHnft8kQXd",
    "outputId": "5054eb57-8029-437f-e79f-817e8866e9cf"
   },
   "outputs": [
    {
     "data": {
      "text/plain": [
       "array([[  6.   , 148.   ,  72.   , ...,  33.6  ,   0.627,  50.   ],\n",
       "       [  1.   ,  85.   ,  66.   , ...,  26.6  ,   0.351,  31.   ],\n",
       "       [  8.   , 183.   ,  64.   , ...,  23.3  ,   0.672,  32.   ],\n",
       "       ...,\n",
       "       [  5.   , 121.   ,  72.   , ...,  26.2  ,   0.245,  30.   ],\n",
       "       [  1.   , 126.   ,  60.   , ...,  30.1  ,   0.349,  47.   ],\n",
       "       [  1.   ,  93.   ,  70.   , ...,  30.4  ,   0.315,  23.   ]])"
      ]
     },
     "execution_count": 11,
     "metadata": {},
     "output_type": "execute_result"
    }
   ],
   "source": [
    "X"
   ]
  },
  {
   "cell_type": "code",
   "execution_count": 12,
   "metadata": {
    "id": "VpBoPnQUkUTI"
   },
   "outputs": [],
   "source": [
    "y = diabetes.iloc[:, 8].values"
   ]
  },
  {
   "cell_type": "code",
   "execution_count": 13,
   "metadata": {
    "colab": {
     "base_uri": "https://localhost:8080/",
     "height": 622
    },
    "id": "WusTX5TGkUDI",
    "outputId": "3ba26283-d1fb-4714-898c-ef660e14f2de"
   },
   "outputs": [
    {
     "data": {
      "text/plain": [
       "array([1, 0, 1, 0, 1, 0, 1, 0, 1, 1, 0, 1, 0, 1, 1, 1, 1, 1, 0, 1, 0, 0,\n",
       "       1, 1, 1, 1, 1, 0, 0, 0, 0, 1, 0, 0, 0, 0, 0, 1, 1, 1, 0, 0, 0, 1,\n",
       "       0, 1, 0, 0, 1, 0, 0, 0, 0, 1, 0, 0, 1, 0, 0, 0, 0, 1, 0, 0, 1, 0,\n",
       "       1, 0, 0, 0, 1, 0, 1, 0, 0, 0, 0, 0, 1, 0, 0, 0, 0, 0, 1, 0, 0, 0,\n",
       "       1, 0, 0, 0, 0, 1, 0, 0, 0, 0, 0, 1, 1, 0, 0, 0, 0, 0, 0, 0, 0, 1,\n",
       "       1, 1, 0, 0, 1, 1, 1, 0, 0, 0, 1, 0, 0, 0, 1, 1, 0, 0, 1, 1, 1, 1,\n",
       "       1, 0, 0, 0, 0, 0, 0, 0, 0, 0, 0, 1, 0, 0, 0, 0, 0, 0, 0, 0, 1, 0,\n",
       "       1, 1, 0, 0, 0, 1, 0, 0, 0, 0, 1, 1, 0, 0, 0, 0, 1, 1, 0, 0, 0, 1,\n",
       "       0, 1, 0, 1, 0, 0, 0, 0, 0, 1, 1, 1, 1, 1, 0, 0, 1, 1, 0, 1, 0, 1,\n",
       "       1, 1, 0, 0, 0, 0, 0, 0, 1, 1, 0, 1, 0, 0, 0, 1, 1, 1, 1, 0, 1, 1,\n",
       "       1, 1, 0, 0, 0, 0, 0, 1, 0, 0, 1, 1, 0, 0, 0, 1, 1, 1, 1, 0, 0, 0,\n",
       "       1, 1, 0, 1, 0, 0, 0, 0, 0, 0, 0, 0, 1, 1, 0, 0, 0, 1, 0, 1, 0, 0,\n",
       "       1, 0, 1, 0, 0, 1, 1, 0, 0, 0, 0, 0, 1, 0, 0, 0, 1, 0, 0, 1, 1, 0,\n",
       "       0, 1, 0, 0, 0, 1, 1, 1, 0, 0, 1, 0, 1, 0, 1, 1, 0, 1, 0, 0, 1, 0,\n",
       "       1, 1, 0, 0, 1, 0, 1, 0, 0, 1, 0, 1, 0, 1, 1, 1, 0, 0, 1, 0, 1, 0,\n",
       "       0, 0, 1, 0, 0, 0, 0, 1, 1, 1, 0, 0, 0, 0, 0, 0, 0, 0, 0, 1, 0, 0,\n",
       "       0, 0, 0, 1, 1, 1, 0, 1, 1, 0, 0, 1, 0, 0, 1, 0, 0, 1, 1, 0, 0, 0,\n",
       "       0, 1, 0, 0, 1, 0, 0, 0, 0, 0, 0, 0, 1, 1, 1, 0, 0, 1, 0, 0, 1, 0,\n",
       "       0, 1, 0, 1, 1, 0, 1, 0, 1, 0, 1, 0, 1, 1, 0, 0, 0, 0, 1, 1, 0, 1,\n",
       "       0, 1, 0, 0, 0, 0, 1, 1, 0, 1, 0, 1, 0, 0, 0, 0, 0, 1, 0, 0, 0, 0,\n",
       "       1, 0, 0, 1, 1, 1, 0, 0, 1, 0, 0, 1, 0, 0, 0, 1, 0, 0, 1, 0, 0, 0,\n",
       "       0, 0, 0, 0, 0, 0, 1, 0, 0, 0, 0, 0, 0, 0, 1, 0, 0, 0, 1, 0, 0, 0,\n",
       "       1, 1, 0, 0, 0, 0, 0, 0, 0, 1, 0, 0, 0, 0, 1, 0, 0, 0, 1, 0, 0, 0,\n",
       "       1, 0, 0, 0, 1, 0, 0, 0, 0, 1, 1, 0, 0, 0, 0, 0, 0, 1, 0, 0, 0, 0,\n",
       "       0, 0, 0, 0, 0, 0, 0, 1, 0, 0, 0, 1, 1, 1, 1, 0, 0, 1, 1, 0, 0, 0,\n",
       "       0, 0, 0, 0, 0, 0, 0, 0, 0, 0, 1, 1, 0, 0, 0, 0, 0, 0, 0, 1, 0, 0,\n",
       "       0, 0, 0, 0, 0, 1, 0, 1, 1, 0, 0, 0, 1, 0, 1, 0, 1, 0, 1, 0, 1, 0,\n",
       "       0, 1, 0, 0, 1, 0, 0, 0, 0, 1, 1, 0, 1, 0, 0, 0, 0, 1, 1, 0, 1, 0,\n",
       "       0, 0, 1, 1, 0, 0, 0, 0, 0, 0, 0, 0, 0, 0, 1, 0, 0, 0, 0, 1, 0, 0,\n",
       "       1, 0, 0, 0, 1, 0, 0, 0, 1, 1, 1, 0, 0, 0, 0, 0, 0, 1, 0, 0, 0, 1,\n",
       "       0, 1, 1, 1, 1, 0, 1, 1, 0, 0, 0, 0, 0, 0, 0, 1, 1, 0, 1, 0, 0, 1,\n",
       "       0, 1, 0, 0, 0, 0, 0, 1, 0, 1, 0, 1, 0, 1, 1, 0, 0, 0, 0, 1, 1, 0,\n",
       "       0, 0, 1, 0, 1, 1, 0, 0, 1, 0, 0, 1, 1, 0, 0, 1, 0, 0, 1, 0, 0, 0,\n",
       "       0, 0, 0, 0, 1, 1, 1, 0, 0, 0, 0, 0, 0, 1, 1, 0, 0, 1, 0, 0, 1, 0,\n",
       "       1, 1, 1, 0, 0, 1, 1, 1, 0, 1, 0, 1, 0, 1, 0, 0, 0, 0, 1, 0],\n",
       "      dtype=int64)"
      ]
     },
     "execution_count": 13,
     "metadata": {},
     "output_type": "execute_result"
    }
   ],
   "source": [
    "y"
   ]
  },
  {
   "cell_type": "code",
   "execution_count": 14,
   "metadata": {
    "id": "ScLSObEJkUAp"
   },
   "outputs": [],
   "source": [
    "#padronização pelo desvio padrão\n",
    "sc = StandardScaler()\n",
    "X = sc.fit_transform(X)"
   ]
  },
  {
   "cell_type": "code",
   "execution_count": 15,
   "metadata": {
    "colab": {
     "base_uri": "https://localhost:8080/",
     "height": 242
    },
    "id": "yqx_4KAFkX6I",
    "outputId": "3a50d14e-c933-4c9d-e4e5-62fa5391ebde"
   },
   "outputs": [
    {
     "data": {
      "text/plain": [
       "array([[ 0.63994726,  0.84832379,  0.14964075, ...,  0.20401277,\n",
       "         0.46849198,  1.4259954 ],\n",
       "       [-0.84488505, -1.12339636, -0.16054575, ..., -0.68442195,\n",
       "        -0.36506078, -0.19067191],\n",
       "       [ 1.23388019,  1.94372388, -0.26394125, ..., -1.10325546,\n",
       "         0.60439732, -0.10558415],\n",
       "       ...,\n",
       "       [ 0.3429808 ,  0.00330087,  0.14964075, ..., -0.73518964,\n",
       "        -0.68519336, -0.27575966],\n",
       "       [-0.84488505,  0.1597866 , -0.47073225, ..., -0.24020459,\n",
       "        -0.37110101,  1.17073215],\n",
       "       [-0.84488505, -0.8730192 ,  0.04624525, ..., -0.20212881,\n",
       "        -0.47378505, -0.87137393]])"
      ]
     },
     "execution_count": 15,
     "metadata": {},
     "output_type": "execute_result"
    }
   ],
   "source": [
    "X"
   ]
  },
  {
   "cell_type": "code",
   "execution_count": 16,
   "metadata": {
    "id": "xwYJ_63JkX3t"
   },
   "outputs": [],
   "source": [
    "X_train, X_test, y_train, y_test = train_test_split(X, y, test_size = 0.2)"
   ]
  },
  {
   "cell_type": "code",
   "execution_count": 17,
   "metadata": {
    "colab": {
     "base_uri": "https://localhost:8080/",
     "height": 35
    },
    "id": "Y2adUeynXMd-",
    "outputId": "d9df224d-9f25-467a-e395-2156c44f3dd3"
   },
   "outputs": [
    {
     "data": {
      "text/plain": [
       "(614, 8)"
      ]
     },
     "execution_count": 17,
     "metadata": {},
     "output_type": "execute_result"
    }
   ],
   "source": [
    "X_train.shape"
   ]
  },
  {
   "cell_type": "code",
   "execution_count": 18,
   "metadata": {
    "colab": {
     "base_uri": "https://localhost:8080/",
     "height": 35
    },
    "id": "T7sLR9DtXOjy",
    "outputId": "76fc96b8-8e15-47e6-d431-5c3bfb5be7be"
   },
   "outputs": [
    {
     "data": {
      "text/plain": [
       "(154, 8)"
      ]
     },
     "execution_count": 18,
     "metadata": {},
     "output_type": "execute_result"
    }
   ],
   "source": [
    "X_test.shape"
   ]
  },
  {
   "cell_type": "markdown",
   "metadata": {
    "id": "Y0GmpAjG3GiH"
   },
   "source": [
    "# Etapa 4: Construção e treinamento do modelo"
   ]
  },
  {
   "cell_type": "code",
   "execution_count": 146,
   "metadata": {
    "id": "Yl6fmPJj3cCX"
   },
   "outputs": [],
   "source": [
    "classifier = tf.keras.models.Sequential()\n",
    "classifier.add(tf.keras.layers.Dense(units=6, activation='tanh', input_shape=(8, )))\n",
    "classifier.add(tf.keras.layers.Dense(units=1, activation='sigmoid'))"
   ]
  },
  {
   "cell_type": "code",
   "execution_count": 147,
   "metadata": {
    "colab": {
     "base_uri": "https://localhost:8080/",
     "height": 328
    },
    "id": "GUd71odB4v-i",
    "outputId": "524e56da-00e7-4126-c9b6-d8800b47aaeb",
    "scrolled": true
   },
   "outputs": [
    {
     "name": "stdout",
     "output_type": "stream",
     "text": [
      "Model: \"sequential_10\"\n",
      "_________________________________________________________________\n",
      " Layer (type)                Output Shape              Param #   \n",
      "=================================================================\n",
      " dense_21 (Dense)            (None, 6)                 54        \n",
      "                                                                 \n",
      " dense_22 (Dense)            (None, 1)                 7         \n",
      "                                                                 \n",
      "=================================================================\n",
      "Total params: 61\n",
      "Trainable params: 61\n",
      "Non-trainable params: 0\n",
      "_________________________________________________________________\n"
     ]
    }
   ],
   "source": [
    "classifier.summary()"
   ]
  },
  {
   "cell_type": "code",
   "execution_count": 148,
   "metadata": {
    "id": "BYmvNpNw5Act"
   },
   "outputs": [],
   "source": [
    "classifier.compile(optimizer='Adam', loss='binary_crossentropy', metrics = ['accuracy'])"
   ]
  },
  {
   "cell_type": "code",
   "execution_count": 149,
   "metadata": {
    "colab": {
     "base_uri": "https://localhost:8080/",
     "height": 1000
    },
    "id": "tpia0VBS5Ljw",
    "outputId": "54b47cf6-bdf8-43c5-8a28-cdf840a6b069"
   },
   "outputs": [
    {
     "name": "stdout",
     "output_type": "stream",
     "text": [
      "Epoch 1/80\n",
      "16/16 [==============================] - 1s 11ms/step - loss: 0.6105 - accuracy: 0.6721 - val_loss: 0.5744 - val_accuracy: 0.7317\n",
      "Epoch 2/80\n",
      "16/16 [==============================] - 0s 3ms/step - loss: 0.5916 - accuracy: 0.6945 - val_loss: 0.5555 - val_accuracy: 0.7480\n",
      "Epoch 3/80\n",
      "16/16 [==============================] - 0s 3ms/step - loss: 0.5753 - accuracy: 0.7169 - val_loss: 0.5394 - val_accuracy: 0.7724\n",
      "Epoch 4/80\n",
      "16/16 [==============================] - 0s 3ms/step - loss: 0.5621 - accuracy: 0.7210 - val_loss: 0.5247 - val_accuracy: 0.7886\n",
      "Epoch 5/80\n",
      "16/16 [==============================] - 0s 3ms/step - loss: 0.5499 - accuracy: 0.7352 - val_loss: 0.5134 - val_accuracy: 0.7724\n",
      "Epoch 6/80\n",
      "16/16 [==============================] - 0s 3ms/step - loss: 0.5401 - accuracy: 0.7454 - val_loss: 0.5041 - val_accuracy: 0.7886\n",
      "Epoch 7/80\n",
      "16/16 [==============================] - 0s 3ms/step - loss: 0.5314 - accuracy: 0.7393 - val_loss: 0.4957 - val_accuracy: 0.7967\n",
      "Epoch 8/80\n",
      "16/16 [==============================] - 0s 3ms/step - loss: 0.5241 - accuracy: 0.7434 - val_loss: 0.4883 - val_accuracy: 0.7967\n",
      "Epoch 9/80\n",
      "16/16 [==============================] - 0s 4ms/step - loss: 0.5174 - accuracy: 0.7495 - val_loss: 0.4822 - val_accuracy: 0.7886\n",
      "Epoch 10/80\n",
      "16/16 [==============================] - 0s 3ms/step - loss: 0.5119 - accuracy: 0.7556 - val_loss: 0.4766 - val_accuracy: 0.7886\n",
      "Epoch 11/80\n",
      "16/16 [==============================] - 0s 4ms/step - loss: 0.5070 - accuracy: 0.7617 - val_loss: 0.4722 - val_accuracy: 0.7967\n",
      "Epoch 12/80\n",
      "16/16 [==============================] - 0s 3ms/step - loss: 0.5026 - accuracy: 0.7658 - val_loss: 0.4685 - val_accuracy: 0.7967\n",
      "Epoch 13/80\n",
      "16/16 [==============================] - 0s 3ms/step - loss: 0.4990 - accuracy: 0.7658 - val_loss: 0.4651 - val_accuracy: 0.7967\n",
      "Epoch 14/80\n",
      "16/16 [==============================] - 0s 3ms/step - loss: 0.4955 - accuracy: 0.7678 - val_loss: 0.4621 - val_accuracy: 0.8049\n",
      "Epoch 15/80\n",
      "16/16 [==============================] - 0s 3ms/step - loss: 0.4927 - accuracy: 0.7678 - val_loss: 0.4596 - val_accuracy: 0.7967\n",
      "Epoch 16/80\n",
      "16/16 [==============================] - 0s 3ms/step - loss: 0.4900 - accuracy: 0.7699 - val_loss: 0.4575 - val_accuracy: 0.7886\n",
      "Epoch 17/80\n",
      "16/16 [==============================] - 0s 3ms/step - loss: 0.4877 - accuracy: 0.7699 - val_loss: 0.4559 - val_accuracy: 0.7967\n",
      "Epoch 18/80\n",
      "16/16 [==============================] - 0s 3ms/step - loss: 0.4856 - accuracy: 0.7739 - val_loss: 0.4543 - val_accuracy: 0.7967\n",
      "Epoch 19/80\n",
      "16/16 [==============================] - 0s 3ms/step - loss: 0.4836 - accuracy: 0.7739 - val_loss: 0.4528 - val_accuracy: 0.8049\n",
      "Epoch 20/80\n",
      "16/16 [==============================] - 0s 3ms/step - loss: 0.4819 - accuracy: 0.7739 - val_loss: 0.4517 - val_accuracy: 0.8049\n",
      "Epoch 21/80\n",
      "16/16 [==============================] - 0s 3ms/step - loss: 0.4802 - accuracy: 0.7780 - val_loss: 0.4508 - val_accuracy: 0.7967\n",
      "Epoch 22/80\n",
      "16/16 [==============================] - 0s 3ms/step - loss: 0.4788 - accuracy: 0.7780 - val_loss: 0.4498 - val_accuracy: 0.7967\n",
      "Epoch 23/80\n",
      "16/16 [==============================] - 0s 3ms/step - loss: 0.4777 - accuracy: 0.7739 - val_loss: 0.4490 - val_accuracy: 0.7967\n",
      "Epoch 24/80\n",
      "16/16 [==============================] - 0s 3ms/step - loss: 0.4765 - accuracy: 0.7780 - val_loss: 0.4484 - val_accuracy: 0.7967\n",
      "Epoch 25/80\n",
      "16/16 [==============================] - 0s 3ms/step - loss: 0.4756 - accuracy: 0.7780 - val_loss: 0.4486 - val_accuracy: 0.7967\n",
      "Epoch 26/80\n",
      "16/16 [==============================] - 0s 3ms/step - loss: 0.4746 - accuracy: 0.7780 - val_loss: 0.4483 - val_accuracy: 0.7967\n",
      "Epoch 27/80\n",
      "16/16 [==============================] - 0s 3ms/step - loss: 0.4739 - accuracy: 0.7780 - val_loss: 0.4483 - val_accuracy: 0.7967\n",
      "Epoch 28/80\n",
      "16/16 [==============================] - 0s 3ms/step - loss: 0.4731 - accuracy: 0.7739 - val_loss: 0.4484 - val_accuracy: 0.7886\n",
      "Epoch 29/80\n",
      "16/16 [==============================] - 0s 3ms/step - loss: 0.4726 - accuracy: 0.7760 - val_loss: 0.4484 - val_accuracy: 0.7967\n",
      "Epoch 30/80\n",
      "16/16 [==============================] - 0s 3ms/step - loss: 0.4717 - accuracy: 0.7760 - val_loss: 0.4484 - val_accuracy: 0.7967\n",
      "Epoch 31/80\n",
      "16/16 [==============================] - 0s 3ms/step - loss: 0.4712 - accuracy: 0.7780 - val_loss: 0.4485 - val_accuracy: 0.7886\n",
      "Epoch 32/80\n",
      "16/16 [==============================] - 0s 3ms/step - loss: 0.4707 - accuracy: 0.7780 - val_loss: 0.4485 - val_accuracy: 0.7886\n",
      "Epoch 33/80\n",
      "16/16 [==============================] - 0s 3ms/step - loss: 0.4702 - accuracy: 0.7800 - val_loss: 0.4482 - val_accuracy: 0.7886\n",
      "Epoch 34/80\n",
      "16/16 [==============================] - 0s 3ms/step - loss: 0.4696 - accuracy: 0.7821 - val_loss: 0.4482 - val_accuracy: 0.7886\n",
      "Epoch 35/80\n",
      "16/16 [==============================] - 0s 3ms/step - loss: 0.4690 - accuracy: 0.7841 - val_loss: 0.4480 - val_accuracy: 0.7886\n",
      "Epoch 36/80\n",
      "16/16 [==============================] - 0s 3ms/step - loss: 0.4686 - accuracy: 0.7841 - val_loss: 0.4480 - val_accuracy: 0.7886\n",
      "Epoch 37/80\n",
      "16/16 [==============================] - 0s 3ms/step - loss: 0.4681 - accuracy: 0.7841 - val_loss: 0.4481 - val_accuracy: 0.7886\n",
      "Epoch 38/80\n",
      "16/16 [==============================] - 0s 2ms/step - loss: 0.4676 - accuracy: 0.7841 - val_loss: 0.4481 - val_accuracy: 0.7886\n",
      "Epoch 39/80\n",
      "16/16 [==============================] - 0s 3ms/step - loss: 0.4672 - accuracy: 0.7862 - val_loss: 0.4483 - val_accuracy: 0.7886\n",
      "Epoch 40/80\n",
      "16/16 [==============================] - 0s 3ms/step - loss: 0.4668 - accuracy: 0.7862 - val_loss: 0.4480 - val_accuracy: 0.7886\n",
      "Epoch 41/80\n",
      "16/16 [==============================] - 0s 3ms/step - loss: 0.4663 - accuracy: 0.7862 - val_loss: 0.4483 - val_accuracy: 0.7886\n",
      "Epoch 42/80\n",
      "16/16 [==============================] - 0s 3ms/step - loss: 0.4660 - accuracy: 0.7882 - val_loss: 0.4485 - val_accuracy: 0.7886\n",
      "Epoch 43/80\n",
      "16/16 [==============================] - 0s 3ms/step - loss: 0.4655 - accuracy: 0.7882 - val_loss: 0.4488 - val_accuracy: 0.7805\n",
      "Epoch 44/80\n",
      "16/16 [==============================] - 0s 2ms/step - loss: 0.4652 - accuracy: 0.7882 - val_loss: 0.4490 - val_accuracy: 0.7805\n",
      "Epoch 45/80\n",
      "16/16 [==============================] - 0s 2ms/step - loss: 0.4648 - accuracy: 0.7882 - val_loss: 0.4491 - val_accuracy: 0.7805\n",
      "Epoch 46/80\n",
      "16/16 [==============================] - 0s 2ms/step - loss: 0.4645 - accuracy: 0.7882 - val_loss: 0.4490 - val_accuracy: 0.7805\n",
      "Epoch 47/80\n",
      "16/16 [==============================] - 0s 2ms/step - loss: 0.4644 - accuracy: 0.7882 - val_loss: 0.4487 - val_accuracy: 0.7805\n",
      "Epoch 48/80\n",
      "16/16 [==============================] - 0s 3ms/step - loss: 0.4641 - accuracy: 0.7902 - val_loss: 0.4491 - val_accuracy: 0.7805\n",
      "Epoch 49/80\n",
      "16/16 [==============================] - 0s 2ms/step - loss: 0.4635 - accuracy: 0.7902 - val_loss: 0.4488 - val_accuracy: 0.7805\n",
      "Epoch 50/80\n",
      "16/16 [==============================] - 0s 3ms/step - loss: 0.4632 - accuracy: 0.7882 - val_loss: 0.4490 - val_accuracy: 0.7886\n",
      "Epoch 51/80\n",
      "16/16 [==============================] - 0s 2ms/step - loss: 0.4629 - accuracy: 0.7882 - val_loss: 0.4489 - val_accuracy: 0.7886\n",
      "Epoch 52/80\n",
      "16/16 [==============================] - 0s 3ms/step - loss: 0.4627 - accuracy: 0.7882 - val_loss: 0.4494 - val_accuracy: 0.7886\n",
      "Epoch 53/80\n",
      "16/16 [==============================] - 0s 3ms/step - loss: 0.4624 - accuracy: 0.7882 - val_loss: 0.4497 - val_accuracy: 0.7886\n",
      "Epoch 54/80\n",
      "16/16 [==============================] - 0s 3ms/step - loss: 0.4622 - accuracy: 0.7882 - val_loss: 0.4497 - val_accuracy: 0.7886\n",
      "Epoch 55/80\n",
      "16/16 [==============================] - 0s 3ms/step - loss: 0.4618 - accuracy: 0.7882 - val_loss: 0.4496 - val_accuracy: 0.7886\n",
      "Epoch 56/80\n",
      "16/16 [==============================] - 0s 3ms/step - loss: 0.4614 - accuracy: 0.7882 - val_loss: 0.4502 - val_accuracy: 0.7886\n",
      "Epoch 57/80\n",
      "16/16 [==============================] - 0s 3ms/step - loss: 0.4611 - accuracy: 0.7882 - val_loss: 0.4502 - val_accuracy: 0.7886\n",
      "Epoch 58/80\n",
      "16/16 [==============================] - 0s 3ms/step - loss: 0.4608 - accuracy: 0.7862 - val_loss: 0.4503 - val_accuracy: 0.7886\n",
      "Epoch 59/80\n"
     ]
    },
    {
     "name": "stdout",
     "output_type": "stream",
     "text": [
      "16/16 [==============================] - 0s 3ms/step - loss: 0.4606 - accuracy: 0.7862 - val_loss: 0.4508 - val_accuracy: 0.7886\n",
      "Epoch 60/80\n",
      "16/16 [==============================] - 0s 3ms/step - loss: 0.4603 - accuracy: 0.7862 - val_loss: 0.4509 - val_accuracy: 0.7886\n",
      "Epoch 61/80\n",
      "16/16 [==============================] - 0s 3ms/step - loss: 0.4600 - accuracy: 0.7841 - val_loss: 0.4512 - val_accuracy: 0.7967\n",
      "Epoch 62/80\n",
      "16/16 [==============================] - 0s 3ms/step - loss: 0.4597 - accuracy: 0.7841 - val_loss: 0.4517 - val_accuracy: 0.7886\n",
      "Epoch 63/80\n",
      "16/16 [==============================] - 0s 3ms/step - loss: 0.4593 - accuracy: 0.7841 - val_loss: 0.4518 - val_accuracy: 0.7967\n",
      "Epoch 64/80\n",
      "16/16 [==============================] - 0s 4ms/step - loss: 0.4592 - accuracy: 0.7841 - val_loss: 0.4519 - val_accuracy: 0.7886\n",
      "Epoch 65/80\n",
      "16/16 [==============================] - 0s 3ms/step - loss: 0.4590 - accuracy: 0.7862 - val_loss: 0.4522 - val_accuracy: 0.7886\n",
      "Epoch 66/80\n",
      "16/16 [==============================] - 0s 3ms/step - loss: 0.4587 - accuracy: 0.7862 - val_loss: 0.4521 - val_accuracy: 0.7886\n",
      "Epoch 67/80\n",
      "16/16 [==============================] - 0s 3ms/step - loss: 0.4583 - accuracy: 0.7862 - val_loss: 0.4525 - val_accuracy: 0.7886\n",
      "Epoch 68/80\n",
      "16/16 [==============================] - 0s 3ms/step - loss: 0.4581 - accuracy: 0.7862 - val_loss: 0.4527 - val_accuracy: 0.7886\n",
      "Epoch 69/80\n",
      "16/16 [==============================] - 0s 3ms/step - loss: 0.4578 - accuracy: 0.7862 - val_loss: 0.4527 - val_accuracy: 0.7886\n",
      "Epoch 70/80\n",
      "16/16 [==============================] - 0s 3ms/step - loss: 0.4576 - accuracy: 0.7862 - val_loss: 0.4528 - val_accuracy: 0.7967\n",
      "Epoch 71/80\n",
      "16/16 [==============================] - 0s 3ms/step - loss: 0.4574 - accuracy: 0.7862 - val_loss: 0.4528 - val_accuracy: 0.7967\n",
      "Epoch 72/80\n",
      "16/16 [==============================] - 0s 3ms/step - loss: 0.4573 - accuracy: 0.7862 - val_loss: 0.4526 - val_accuracy: 0.7967\n",
      "Epoch 73/80\n",
      "16/16 [==============================] - 0s 3ms/step - loss: 0.4568 - accuracy: 0.7862 - val_loss: 0.4531 - val_accuracy: 0.7967\n",
      "Epoch 74/80\n",
      "16/16 [==============================] - 0s 3ms/step - loss: 0.4566 - accuracy: 0.7862 - val_loss: 0.4532 - val_accuracy: 0.7967\n",
      "Epoch 75/80\n",
      "16/16 [==============================] - 0s 3ms/step - loss: 0.4565 - accuracy: 0.7862 - val_loss: 0.4536 - val_accuracy: 0.7967\n",
      "Epoch 76/80\n",
      "16/16 [==============================] - 0s 3ms/step - loss: 0.4561 - accuracy: 0.7902 - val_loss: 0.4537 - val_accuracy: 0.7967\n",
      "Epoch 77/80\n",
      "16/16 [==============================] - 0s 3ms/step - loss: 0.4560 - accuracy: 0.7882 - val_loss: 0.4535 - val_accuracy: 0.7967\n",
      "Epoch 78/80\n",
      "16/16 [==============================] - 0s 3ms/step - loss: 0.4557 - accuracy: 0.7882 - val_loss: 0.4535 - val_accuracy: 0.7967\n",
      "Epoch 79/80\n",
      "16/16 [==============================] - 0s 3ms/step - loss: 0.4554 - accuracy: 0.7882 - val_loss: 0.4533 - val_accuracy: 0.7967\n",
      "Epoch 80/80\n",
      "16/16 [==============================] - 0s 3ms/step - loss: 0.4551 - accuracy: 0.7862 - val_loss: 0.4537 - val_accuracy: 0.7967\n"
     ]
    }
   ],
   "source": [
    "epochs_hist = classifier.fit(X_train, y_train, epochs = 80, validation_split = 0.2)\n",
    "#epochs_hist = classifier.fit(X_train, y_train, epochs = 40, validation_data=(X_test,y_test))"
   ]
  },
  {
   "cell_type": "code",
   "execution_count": 150,
   "metadata": {
    "id": "1ho-q0rDl2mX"
   },
   "outputs": [],
   "source": [
    "y_pred = classifier.predict(X_test)"
   ]
  },
  {
   "cell_type": "code",
   "execution_count": 151,
   "metadata": {
    "colab": {
     "base_uri": "https://localhost:8080/",
     "height": 1000
    },
    "id": "3uj4eYQcl4gR",
    "outputId": "d84785af-2750-461f-d07b-ab0a7d4e8453"
   },
   "outputs": [
    {
     "data": {
      "text/plain": [
       "array([[0.74281085],\n",
       "       [0.10042056],\n",
       "       [0.35682076],\n",
       "       [0.31676847],\n",
       "       [0.03881526]], dtype=float32)"
      ]
     },
     "execution_count": 151,
     "metadata": {},
     "output_type": "execute_result"
    }
   ],
   "source": [
    "y_pred[:5]"
   ]
  },
  {
   "cell_type": "code",
   "execution_count": 152,
   "metadata": {
    "id": "QNtHuvUyl5et"
   },
   "outputs": [],
   "source": [
    "y_pred = (y_pred > 0.5)"
   ]
  },
  {
   "cell_type": "code",
   "execution_count": 153,
   "metadata": {
    "colab": {
     "base_uri": "https://localhost:8080/",
     "height": 1000
    },
    "id": "B2tS0JZJl63i",
    "outputId": "64984f28-61c5-4e09-d3c1-55785c25bb18"
   },
   "outputs": [
    {
     "data": {
      "text/plain": [
       "array([[ True],\n",
       "       [False],\n",
       "       [False],\n",
       "       [False],\n",
       "       [False]])"
      ]
     },
     "execution_count": 153,
     "metadata": {},
     "output_type": "execute_result"
    }
   ],
   "source": [
    "y_pred[:5]"
   ]
  },
  {
   "cell_type": "markdown",
   "metadata": {
    "id": "-wRQqOeB5Zh5"
   },
   "source": [
    "# Etapa 6: Avaliação do modelo "
   ]
  },
  {
   "cell_type": "code",
   "execution_count": 154,
   "metadata": {
    "colab": {
     "base_uri": "https://localhost:8080/",
     "height": 35
    },
    "id": "dfUb63035TJL",
    "outputId": "36a503dc-265c-4d5a-962d-eef39485a574"
   },
   "outputs": [
    {
     "data": {
      "text/plain": [
       "dict_keys(['loss', 'accuracy', 'val_loss', 'val_accuracy'])"
      ]
     },
     "execution_count": 154,
     "metadata": {},
     "output_type": "execute_result"
    }
   ],
   "source": [
    "epochs_hist.history.keys()"
   ]
  },
  {
   "cell_type": "code",
   "execution_count": 155,
   "metadata": {
    "colab": {
     "base_uri": "https://localhost:8080/",
     "height": 295
    },
    "id": "eXiDop_l5erJ",
    "outputId": "c1d197ce-e683-433f-d36b-3fe4aa7dbb9a",
    "scrolled": true
   },
   "outputs": [
    {
     "data": {
      "image/png": "[encoded data removed]",
      "text/plain": [
       "<Figure size 432x288 with 1 Axes>"
      ]
     },
     "metadata": {
      "needs_background": "light"
     },
     "output_type": "display_data"
    }
   ],
   "source": [
    "plt.plot(epochs_hist.history['loss'])\n",
    "plt.plot(epochs_hist.history['val_loss'])\n",
    "\n",
    "plt.title('Model Loss Progress During Training')\n",
    "plt.xlabel('Epoch')\n",
    "plt.ylabel('Training and Validation Loss')\n",
    "plt.legend(['Training Loss','Val Loss']);\n"
   ]
  },
  {
   "cell_type": "code",
   "execution_count": 156,
   "metadata": {
    "colab": {
     "base_uri": "https://localhost:8080/",
     "height": 269
    },
    "id": "iiKRlWUSsHMD",
    "outputId": "9c6a5478-9971-46c8-feb4-9c0b748542c6"
   },
   "outputs": [
    {
     "data": {
      "image/png": "[encoded data removed]",
      "text/plain": [
       "<Figure size 432x288 with 2 Axes>"
      ]
     },
     "metadata": {
      "needs_background": "light"
     },
     "output_type": "display_data"
    }
   ],
   "source": [
    "y_train_pred = classifier.predict(X_train)\n",
    "y_train_pred = (y_train_pred > 0.5)\n",
    "cm = confusion_matrix(y_train, y_train_pred)\n",
    "sns.heatmap(cm, annot=True);"
   ]
  },
  {
   "cell_type": "code",
   "execution_count": 157,
   "metadata": {
    "colab": {
     "base_uri": "https://localhost:8080/",
     "height": 52
    },
    "id": "zwZx_Z0MYpdP",
    "outputId": "6686162b-6d7f-41d6-af17-af613865320e"
   },
   "outputs": [
    {
     "data": {
      "text/plain": [
       "array([[356,  47],\n",
       "       [ 83, 128]], dtype=int64)"
      ]
     },
     "execution_count": 157,
     "metadata": {},
     "output_type": "execute_result"
    }
   ],
   "source": [
    "cm"
   ]
  },
  {
   "cell_type": "code",
   "execution_count": 158,
   "metadata": {
    "colab": {
     "base_uri": "https://localhost:8080/",
     "height": 173
    },
    "id": "tsj2jrXkssRJ",
    "outputId": "868d3219-b2e0-4a69-eb4a-d533957f1f1c"
   },
   "outputs": [
    {
     "name": "stdout",
     "output_type": "stream",
     "text": [
      "              precision    recall  f1-score   support\n",
      "\n",
      "       False       0.88      0.81      0.85       439\n",
      "        True       0.61      0.73      0.66       175\n",
      "\n",
      "    accuracy                           0.79       614\n",
      "   macro avg       0.75      0.77      0.75       614\n",
      "weighted avg       0.80      0.79      0.79       614\n",
      "\n"
     ]
    }
   ],
   "source": [
    "print(classification_report(y_train_pred, y_train))"
   ]
  },
  {
   "cell_type": "code",
   "execution_count": 159,
   "metadata": {
    "colab": {
     "base_uri": "https://localhost:8080/",
     "height": 269
    },
    "id": "a7WEucc2mX5Q",
    "outputId": "ae8a1e76-0ffa-4e17-a303-69498bddb9ee"
   },
   "outputs": [
    {
     "data": {
      "image/png": "[encoded data removed]",
      "text/plain": [
       "<Figure size 432x288 with 2 Axes>"
      ]
     },
     "metadata": {
      "needs_background": "light"
     },
     "output_type": "display_data"
    }
   ],
   "source": [
    "cm = confusion_matrix(y_test, y_pred)\n",
    "sns.heatmap(cm, annot=True);"
   ]
  },
  {
   "cell_type": "code",
   "execution_count": 160,
   "metadata": {
    "colab": {
     "base_uri": "https://localhost:8080/",
     "height": 173
    },
    "id": "RAvE7FMxmbOZ",
    "outputId": "94444899-2d0c-454e-cc4f-c8dc7f4dd018"
   },
   "outputs": [
    {
     "name": "stdout",
     "output_type": "stream",
     "text": [
      "              precision    recall  f1-score   support\n",
      "\n",
      "           0       0.77      0.89      0.83        97\n",
      "           1       0.74      0.56      0.64        57\n",
      "\n",
      "    accuracy                           0.77       154\n",
      "   macro avg       0.76      0.72      0.73       154\n",
      "weighted avg       0.76      0.77      0.76       154\n",
      "\n"
     ]
    }
   ],
   "source": [
    "from sklearn.metrics import classification_report\n",
    "print(classification_report(y_test, y_pred))"
   ]
  }
 ],
 "metadata": {
  "colab": {
   "collapsed_sections": [],
   "name": "Projeto #6: Classificação de diabetes.ipynb",
   "provenance": []
  },
  "kernelspec": {
   "display_name": "Python 3 (ipykernel)",
   "language": "python",
   "name": "python3"
  },
  "language_info": {
   "codemirror_mode": {
    "name": "ipython",
    "version": 3
   },
   "file_extension": ".py",
   "mimetype": "text/x-python",
   "name": "python",
   "nbconvert_exporter": "python",
   "pygments_lexer": "ipython3",
   "version": "3.9.7"
  }
 },
 "nbformat": 4,
 "nbformat_minor": 1
}
