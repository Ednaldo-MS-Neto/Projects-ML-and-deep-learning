{
 "cells": [
  {
   "cell_type": "markdown",
   "metadata": {
    "id": "JnKRe0p9h35K"
   },
   "source": [
    "# Projeto 7: Classificação de roupas"
   ]
  },
  {
   "cell_type": "markdown",
   "metadata": {
    "id": "fr6pOOh0hHaj"
   },
   "source": [
    "# Etapa 1: Importação das bibliotecas"
   ]
  },
  {
   "cell_type": "code",
   "execution_count": 3,
   "metadata": {
    "colab": {
     "base_uri": "https://localhost:8080/",
     "height": 35
    },
    "id": "sgeamaKI_5N_",
    "outputId": "0f99f6bd-fe2b-423b-ccb7-024f527c25e8"
   },
   "outputs": [
    {
     "data": {
      "application/vnd.google.colaboratory.intrinsic+json": {
       "type": "string"
      },
      "text/plain": [
       "'2.8.0'"
      ]
     },
     "execution_count": 3,
     "metadata": {},
     "output_type": "execute_result"
    }
   ],
   "source": [
    "import tensorflow as tf\n",
    "import pandas as pd\n",
    "import numpy as np\n",
    "import matplotlib.pyplot as plt\n",
    "import seaborn as sns\n",
    "import random\n",
    "from tensorflow.keras import layers, models\n",
    "\n",
    "tf.__version__"
   ]
  },
  {
   "cell_type": "markdown",
   "metadata": {
    "id": "qqOSkGp9R55q"
   },
   "source": [
    "# Etapa 2: Carregamento da base de dados"
   ]
  },
  {
   "cell_type": "code",
   "execution_count": 4,
   "metadata": {
    "colab": {
     "base_uri": "https://localhost:8080/"
    },
    "id": "L3dRv2-HIXkr",
    "outputId": "c5f3392c-9a88-4630-d672-9c6a6e129618"
   },
   "outputs": [
    {
     "name": "stdout",
     "output_type": "stream",
     "text": [
      "Mounted at /content/drive\n"
     ]
    }
   ],
   "source": [
    "from google.colab import drive\n",
    "drive.mount('/content/drive')\n"
   ]
  },
  {
   "cell_type": "code",
   "execution_count": 6,
   "metadata": {
    "colab": {
     "base_uri": "https://localhost:8080/",
     "height": 53
    },
    "id": "JuhEtdguF2lx",
    "outputId": "5ccc6d95-3224-40b3-8a58-b7833cd83c6b"
   },
   "outputs": [
    {
     "data": {
      "application/vnd.google.colaboratory.intrinsic+json": {
       "type": "string"
      },
      "text/plain": [
       "\"fashion_train_df = pd.read_csv('fashion-mnist-train.csv')\\nfashion_test_df = pd.read_csv('fashion-mnist-test.csv')\""
      ]
     },
     "execution_count": 6,
     "metadata": {},
     "output_type": "execute_result"
    }
   ],
   "source": [
    "#se estiver no colab\n",
    "if True:\n",
    "    fashion_train_df = pd.read_csv('/content/drive/My Drive/fashion-mnist-train.csv', sep = ',')\n",
    "    fashion_test_df = pd.read_csv('/content/drive/My Drive/fashion-mnist-test.csv', sep = ',')\n",
    "else:\n",
    "    fashion_train_df = pd.read_csv('fashion-mnist-train.csv')\n",
    "    fashion_test_df = pd.read_csv('fashion-mnist-test.csv')"
   ]
  },
  {
   "cell_type": "markdown",
   "metadata": {
    "id": "jWb45OshSDsr"
   },
   "source": [
    "# Etapa 3: Visualização dos dados"
   ]
  },
  {
   "cell_type": "code",
   "execution_count": 7,
   "metadata": {
    "colab": {
     "base_uri": "https://localhost:8080/",
     "height": 300
    },
    "id": "ylQOrrruSIUz",
    "outputId": "a3e9f2e6-0912-4f79-f50b-03ff26d0babd"
   },
   "outputs": [
    {
     "data": {
      "text/html": [
       "\n",
       "  <div id=\"df-689c5764-df61-4ef4-8f92-c4f0a40c02ad\">\n",
       "    <div class=\"colab-df-container\">\n",
       "      <div>\n",
       "<style scoped>\n",
       "    .dataframe tbody tr th:only-of-type {\n",
       "        vertical-align: middle;\n",
       "    }\n",
       "\n",
       "    .dataframe tbody tr th {\n",
       "        vertical-align: top;\n",
       "    }\n",
       "\n",
       "    .dataframe thead th {\n",
       "        text-align: right;\n",
       "    }\n",
       "</style>\n",
       "<table border=\"1\" class=\"dataframe\">\n",
       "  <thead>\n",
       "    <tr style=\"text-align: right;\">\n",
       "      <th></th>\n",
       "      <th>label</th>\n",
       "      <th>pixel1</th>\n",
       "      <th>pixel2</th>\n",
       "      <th>pixel3</th>\n",
       "      <th>pixel4</th>\n",
       "      <th>pixel5</th>\n",
       "      <th>pixel6</th>\n",
       "      <th>pixel7</th>\n",
       "      <th>pixel8</th>\n",
       "      <th>pixel9</th>\n",
       "      <th>...</th>\n",
       "      <th>pixel775</th>\n",
       "      <th>pixel776</th>\n",
       "      <th>pixel777</th>\n",
       "      <th>pixel778</th>\n",
       "      <th>pixel779</th>\n",
       "      <th>pixel780</th>\n",
       "      <th>pixel781</th>\n",
       "      <th>pixel782</th>\n",
       "      <th>pixel783</th>\n",
       "      <th>pixel784</th>\n",
       "    </tr>\n",
       "  </thead>\n",
       "  <tbody>\n",
       "    <tr>\n",
       "      <th>0</th>\n",
       "      <td>2</td>\n",
       "      <td>0</td>\n",
       "      <td>0</td>\n",
       "      <td>0</td>\n",
       "      <td>0</td>\n",
       "      <td>0</td>\n",
       "      <td>0</td>\n",
       "      <td>0</td>\n",
       "      <td>0</td>\n",
       "      <td>0</td>\n",
       "      <td>...</td>\n",
       "      <td>0</td>\n",
       "      <td>0</td>\n",
       "      <td>0</td>\n",
       "      <td>0</td>\n",
       "      <td>0</td>\n",
       "      <td>0</td>\n",
       "      <td>0</td>\n",
       "      <td>0</td>\n",
       "      <td>0</td>\n",
       "      <td>0</td>\n",
       "    </tr>\n",
       "    <tr>\n",
       "      <th>1</th>\n",
       "      <td>9</td>\n",
       "      <td>0</td>\n",
       "      <td>0</td>\n",
       "      <td>0</td>\n",
       "      <td>0</td>\n",
       "      <td>0</td>\n",
       "      <td>0</td>\n",
       "      <td>0</td>\n",
       "      <td>0</td>\n",
       "      <td>0</td>\n",
       "      <td>...</td>\n",
       "      <td>0</td>\n",
       "      <td>0</td>\n",
       "      <td>0</td>\n",
       "      <td>0</td>\n",
       "      <td>0</td>\n",
       "      <td>0</td>\n",
       "      <td>0</td>\n",
       "      <td>0</td>\n",
       "      <td>0</td>\n",
       "      <td>0</td>\n",
       "    </tr>\n",
       "    <tr>\n",
       "      <th>2</th>\n",
       "      <td>6</td>\n",
       "      <td>0</td>\n",
       "      <td>0</td>\n",
       "      <td>0</td>\n",
       "      <td>0</td>\n",
       "      <td>0</td>\n",
       "      <td>0</td>\n",
       "      <td>0</td>\n",
       "      <td>5</td>\n",
       "      <td>0</td>\n",
       "      <td>...</td>\n",
       "      <td>0</td>\n",
       "      <td>0</td>\n",
       "      <td>0</td>\n",
       "      <td>30</td>\n",
       "      <td>43</td>\n",
       "      <td>0</td>\n",
       "      <td>0</td>\n",
       "      <td>0</td>\n",
       "      <td>0</td>\n",
       "      <td>0</td>\n",
       "    </tr>\n",
       "    <tr>\n",
       "      <th>3</th>\n",
       "      <td>0</td>\n",
       "      <td>0</td>\n",
       "      <td>0</td>\n",
       "      <td>0</td>\n",
       "      <td>1</td>\n",
       "      <td>2</td>\n",
       "      <td>0</td>\n",
       "      <td>0</td>\n",
       "      <td>0</td>\n",
       "      <td>0</td>\n",
       "      <td>...</td>\n",
       "      <td>3</td>\n",
       "      <td>0</td>\n",
       "      <td>0</td>\n",
       "      <td>0</td>\n",
       "      <td>0</td>\n",
       "      <td>1</td>\n",
       "      <td>0</td>\n",
       "      <td>0</td>\n",
       "      <td>0</td>\n",
       "      <td>0</td>\n",
       "    </tr>\n",
       "    <tr>\n",
       "      <th>4</th>\n",
       "      <td>3</td>\n",
       "      <td>0</td>\n",
       "      <td>0</td>\n",
       "      <td>0</td>\n",
       "      <td>0</td>\n",
       "      <td>0</td>\n",
       "      <td>0</td>\n",
       "      <td>0</td>\n",
       "      <td>0</td>\n",
       "      <td>0</td>\n",
       "      <td>...</td>\n",
       "      <td>0</td>\n",
       "      <td>0</td>\n",
       "      <td>0</td>\n",
       "      <td>0</td>\n",
       "      <td>0</td>\n",
       "      <td>0</td>\n",
       "      <td>0</td>\n",
       "      <td>0</td>\n",
       "      <td>0</td>\n",
       "      <td>0</td>\n",
       "    </tr>\n",
       "  </tbody>\n",
       "</table>\n",
       "<p>5 rows × 785 columns</p>\n",
       "</div>\n",
       "      <button class=\"colab-df-convert\" onclick=\"convertToInteractive('df-689c5764-df61-4ef4-8f92-c4f0a40c02ad')\"\n",
       "              title=\"Convert this dataframe to an interactive table.\"\n",
       "              style=\"display:none;\">\n",
       "        \n",
       "  <svg xmlns=\"http://www.w3.org/2000/svg\" height=\"24px\"viewBox=\"0 0 24 24\"\n",
       "       width=\"24px\">\n",
       "    <path d=\"M0 0h24v24H0V0z\" fill=\"none\"/>\n",
       "    <path d=\"M18.56 5.44l.94 2.06.94-2.06 2.06-.94-2.06-.94-.94-2.06-.94 2.06-2.06.94zm-11 1L8.5 8.5l.94-2.06 2.06-.94-2.06-.94L8.5 2.5l-.94 2.06-2.06.94zm10 10l.94 2.06.94-2.06 2.06-.94-2.06-.94-.94-2.06-.94 2.06-2.06.94z\"/><path d=\"M17.41 7.96l-1.37-1.37c-.4-.4-.92-.59-1.43-.59-.52 0-1.04.2-1.43.59L10.3 9.45l-7.72 7.72c-.78.78-.78 2.05 0 2.83L4 21.41c.39.39.9.59 1.41.59.51 0 1.02-.2 1.41-.59l7.78-7.78 2.81-2.81c.8-.78.8-2.07 0-2.86zM5.41 20L4 18.59l7.72-7.72 1.47 1.35L5.41 20z\"/>\n",
       "  </svg>\n",
       "      </button>\n",
       "      \n",
       "  <style>\n",
       "    .colab-df-container {\n",
       "      display:flex;\n",
       "      flex-wrap:wrap;\n",
       "      gap: 12px;\n",
       "    }\n",
       "\n",
       "    .colab-df-convert {\n",
       "      background-color: #E8F0FE;\n",
       "      border: none;\n",
       "      border-radius: 50%;\n",
       "      cursor: pointer;\n",
       "      display: none;\n",
       "      fill: #1967D2;\n",
       "      height: 32px;\n",
       "      padding: 0 0 0 0;\n",
       "      width: 32px;\n",
       "    }\n",
       "\n",
       "    .colab-df-convert:hover {\n",
       "      background-color: #E2EBFA;\n",
       "      box-shadow: 0px 1px 2px rgba(60, 64, 67, 0.3), 0px 1px 3px 1px rgba(60, 64, 67, 0.15);\n",
       "      fill: #174EA6;\n",
       "    }\n",
       "\n",
       "    [theme=dark] .colab-df-convert {\n",
       "      background-color: #3B4455;\n",
       "      fill: #D2E3FC;\n",
       "    }\n",
       "\n",
       "    [theme=dark] .colab-df-convert:hover {\n",
       "      background-color: #434B5C;\n",
       "      box-shadow: 0px 1px 3px 1px rgba(0, 0, 0, 0.15);\n",
       "      filter: drop-shadow(0px 1px 2px rgba(0, 0, 0, 0.3));\n",
       "      fill: #FFFFFF;\n",
       "    }\n",
       "  </style>\n",
       "\n",
       "      <script>\n",
       "        const buttonEl =\n",
       "          document.querySelector('#df-689c5764-df61-4ef4-8f92-c4f0a40c02ad button.colab-df-convert');\n",
       "        buttonEl.style.display =\n",
       "          google.colab.kernel.accessAllowed ? 'block' : 'none';\n",
       "\n",
       "        async function convertToInteractive(key) {\n",
       "          const element = document.querySelector('#df-689c5764-df61-4ef4-8f92-c4f0a40c02ad');\n",
       "          const dataTable =\n",
       "            await google.colab.kernel.invokeFunction('convertToInteractive',\n",
       "                                                     [key], {});\n",
       "          if (!dataTable) return;\n",
       "\n",
       "          const docLinkHtml = 'Like what you see? Visit the ' +\n",
       "            '<a target=\"_blank\" href=https://colab.research.google.com/notebooks/data_table.ipynb>data table notebook</a>'\n",
       "            + ' to learn more about interactive tables.';\n",
       "          element.innerHTML = '';\n",
       "          dataTable['output_type'] = 'display_data';\n",
       "          await google.colab.output.renderOutput(dataTable, element);\n",
       "          const docLink = document.createElement('div');\n",
       "          docLink.innerHTML = docLinkHtml;\n",
       "          element.appendChild(docLink);\n",
       "        }\n",
       "      </script>\n",
       "    </div>\n",
       "  </div>\n",
       "  "
      ],
      "text/plain": [
       "   label  pixel1  pixel2  pixel3  pixel4  pixel5  pixel6  pixel7  pixel8  \\\n",
       "0      2       0       0       0       0       0       0       0       0   \n",
       "1      9       0       0       0       0       0       0       0       0   \n",
       "2      6       0       0       0       0       0       0       0       5   \n",
       "3      0       0       0       0       1       2       0       0       0   \n",
       "4      3       0       0       0       0       0       0       0       0   \n",
       "\n",
       "   pixel9  ...  pixel775  pixel776  pixel777  pixel778  pixel779  pixel780  \\\n",
       "0       0  ...         0         0         0         0         0         0   \n",
       "1       0  ...         0         0         0         0         0         0   \n",
       "2       0  ...         0         0         0        30        43         0   \n",
       "3       0  ...         3         0         0         0         0         1   \n",
       "4       0  ...         0         0         0         0         0         0   \n",
       "\n",
       "   pixel781  pixel782  pixel783  pixel784  \n",
       "0         0         0         0         0  \n",
       "1         0         0         0         0  \n",
       "2         0         0         0         0  \n",
       "3         0         0         0         0  \n",
       "4         0         0         0         0  \n",
       "\n",
       "[5 rows x 785 columns]"
      ]
     },
     "execution_count": 7,
     "metadata": {},
     "output_type": "execute_result"
    }
   ],
   "source": [
    "fashion_train_df.head()"
   ]
  },
  {
   "cell_type": "code",
   "execution_count": 8,
   "metadata": {
    "colab": {
     "base_uri": "https://localhost:8080/",
     "height": 300
    },
    "id": "XwqzXO-5SKA_",
    "outputId": "a9bf04a1-274d-473b-ea5f-9f9659122b1f"
   },
   "outputs": [
    {
     "data": {
      "text/html": [
       "\n",
       "  <div id=\"df-6ced8836-b885-4328-9e6c-c3b97d645a49\">\n",
       "    <div class=\"colab-df-container\">\n",
       "      <div>\n",
       "<style scoped>\n",
       "    .dataframe tbody tr th:only-of-type {\n",
       "        vertical-align: middle;\n",
       "    }\n",
       "\n",
       "    .dataframe tbody tr th {\n",
       "        vertical-align: top;\n",
       "    }\n",
       "\n",
       "    .dataframe thead th {\n",
       "        text-align: right;\n",
       "    }\n",
       "</style>\n",
       "<table border=\"1\" class=\"dataframe\">\n",
       "  <thead>\n",
       "    <tr style=\"text-align: right;\">\n",
       "      <th></th>\n",
       "      <th>label</th>\n",
       "      <th>pixel1</th>\n",
       "      <th>pixel2</th>\n",
       "      <th>pixel3</th>\n",
       "      <th>pixel4</th>\n",
       "      <th>pixel5</th>\n",
       "      <th>pixel6</th>\n",
       "      <th>pixel7</th>\n",
       "      <th>pixel8</th>\n",
       "      <th>pixel9</th>\n",
       "      <th>...</th>\n",
       "      <th>pixel775</th>\n",
       "      <th>pixel776</th>\n",
       "      <th>pixel777</th>\n",
       "      <th>pixel778</th>\n",
       "      <th>pixel779</th>\n",
       "      <th>pixel780</th>\n",
       "      <th>pixel781</th>\n",
       "      <th>pixel782</th>\n",
       "      <th>pixel783</th>\n",
       "      <th>pixel784</th>\n",
       "    </tr>\n",
       "  </thead>\n",
       "  <tbody>\n",
       "    <tr>\n",
       "      <th>59995</th>\n",
       "      <td>9</td>\n",
       "      <td>0</td>\n",
       "      <td>0</td>\n",
       "      <td>0</td>\n",
       "      <td>0</td>\n",
       "      <td>0</td>\n",
       "      <td>0</td>\n",
       "      <td>0</td>\n",
       "      <td>0</td>\n",
       "      <td>0</td>\n",
       "      <td>...</td>\n",
       "      <td>0</td>\n",
       "      <td>0</td>\n",
       "      <td>0</td>\n",
       "      <td>0</td>\n",
       "      <td>0</td>\n",
       "      <td>0</td>\n",
       "      <td>0</td>\n",
       "      <td>0</td>\n",
       "      <td>0</td>\n",
       "      <td>0</td>\n",
       "    </tr>\n",
       "    <tr>\n",
       "      <th>59996</th>\n",
       "      <td>1</td>\n",
       "      <td>0</td>\n",
       "      <td>0</td>\n",
       "      <td>0</td>\n",
       "      <td>0</td>\n",
       "      <td>0</td>\n",
       "      <td>0</td>\n",
       "      <td>0</td>\n",
       "      <td>0</td>\n",
       "      <td>0</td>\n",
       "      <td>...</td>\n",
       "      <td>73</td>\n",
       "      <td>0</td>\n",
       "      <td>0</td>\n",
       "      <td>0</td>\n",
       "      <td>0</td>\n",
       "      <td>0</td>\n",
       "      <td>0</td>\n",
       "      <td>0</td>\n",
       "      <td>0</td>\n",
       "      <td>0</td>\n",
       "    </tr>\n",
       "    <tr>\n",
       "      <th>59997</th>\n",
       "      <td>8</td>\n",
       "      <td>0</td>\n",
       "      <td>0</td>\n",
       "      <td>0</td>\n",
       "      <td>0</td>\n",
       "      <td>0</td>\n",
       "      <td>0</td>\n",
       "      <td>0</td>\n",
       "      <td>0</td>\n",
       "      <td>0</td>\n",
       "      <td>...</td>\n",
       "      <td>160</td>\n",
       "      <td>162</td>\n",
       "      <td>163</td>\n",
       "      <td>135</td>\n",
       "      <td>94</td>\n",
       "      <td>0</td>\n",
       "      <td>0</td>\n",
       "      <td>0</td>\n",
       "      <td>0</td>\n",
       "      <td>0</td>\n",
       "    </tr>\n",
       "    <tr>\n",
       "      <th>59998</th>\n",
       "      <td>8</td>\n",
       "      <td>0</td>\n",
       "      <td>0</td>\n",
       "      <td>0</td>\n",
       "      <td>0</td>\n",
       "      <td>0</td>\n",
       "      <td>0</td>\n",
       "      <td>0</td>\n",
       "      <td>0</td>\n",
       "      <td>0</td>\n",
       "      <td>...</td>\n",
       "      <td>0</td>\n",
       "      <td>0</td>\n",
       "      <td>0</td>\n",
       "      <td>0</td>\n",
       "      <td>0</td>\n",
       "      <td>0</td>\n",
       "      <td>0</td>\n",
       "      <td>0</td>\n",
       "      <td>0</td>\n",
       "      <td>0</td>\n",
       "    </tr>\n",
       "    <tr>\n",
       "      <th>59999</th>\n",
       "      <td>7</td>\n",
       "      <td>0</td>\n",
       "      <td>0</td>\n",
       "      <td>0</td>\n",
       "      <td>0</td>\n",
       "      <td>0</td>\n",
       "      <td>0</td>\n",
       "      <td>0</td>\n",
       "      <td>0</td>\n",
       "      <td>0</td>\n",
       "      <td>...</td>\n",
       "      <td>0</td>\n",
       "      <td>0</td>\n",
       "      <td>0</td>\n",
       "      <td>0</td>\n",
       "      <td>0</td>\n",
       "      <td>0</td>\n",
       "      <td>0</td>\n",
       "      <td>0</td>\n",
       "      <td>0</td>\n",
       "      <td>0</td>\n",
       "    </tr>\n",
       "  </tbody>\n",
       "</table>\n",
       "<p>5 rows × 785 columns</p>\n",
       "</div>\n",
       "      <button class=\"colab-df-convert\" onclick=\"convertToInteractive('df-6ced8836-b885-4328-9e6c-c3b97d645a49')\"\n",
       "              title=\"Convert this dataframe to an interactive table.\"\n",
       "              style=\"display:none;\">\n",
       "        \n",
       "  <svg xmlns=\"http://www.w3.org/2000/svg\" height=\"24px\"viewBox=\"0 0 24 24\"\n",
       "       width=\"24px\">\n",
       "    <path d=\"M0 0h24v24H0V0z\" fill=\"none\"/>\n",
       "    <path d=\"M18.56 5.44l.94 2.06.94-2.06 2.06-.94-2.06-.94-.94-2.06-.94 2.06-2.06.94zm-11 1L8.5 8.5l.94-2.06 2.06-.94-2.06-.94L8.5 2.5l-.94 2.06-2.06.94zm10 10l.94 2.06.94-2.06 2.06-.94-2.06-.94-.94-2.06-.94 2.06-2.06.94z\"/><path d=\"M17.41 7.96l-1.37-1.37c-.4-.4-.92-.59-1.43-.59-.52 0-1.04.2-1.43.59L10.3 9.45l-7.72 7.72c-.78.78-.78 2.05 0 2.83L4 21.41c.39.39.9.59 1.41.59.51 0 1.02-.2 1.41-.59l7.78-7.78 2.81-2.81c.8-.78.8-2.07 0-2.86zM5.41 20L4 18.59l7.72-7.72 1.47 1.35L5.41 20z\"/>\n",
       "  </svg>\n",
       "      </button>\n",
       "      \n",
       "  <style>\n",
       "    .colab-df-container {\n",
       "      display:flex;\n",
       "      flex-wrap:wrap;\n",
       "      gap: 12px;\n",
       "    }\n",
       "\n",
       "    .colab-df-convert {\n",
       "      background-color: #E8F0FE;\n",
       "      border: none;\n",
       "      border-radius: 50%;\n",
       "      cursor: pointer;\n",
       "      display: none;\n",
       "      fill: #1967D2;\n",
       "      height: 32px;\n",
       "      padding: 0 0 0 0;\n",
       "      width: 32px;\n",
       "    }\n",
       "\n",
       "    .colab-df-convert:hover {\n",
       "      background-color: #E2EBFA;\n",
       "      box-shadow: 0px 1px 2px rgba(60, 64, 67, 0.3), 0px 1px 3px 1px rgba(60, 64, 67, 0.15);\n",
       "      fill: #174EA6;\n",
       "    }\n",
       "\n",
       "    [theme=dark] .colab-df-convert {\n",
       "      background-color: #3B4455;\n",
       "      fill: #D2E3FC;\n",
       "    }\n",
       "\n",
       "    [theme=dark] .colab-df-convert:hover {\n",
       "      background-color: #434B5C;\n",
       "      box-shadow: 0px 1px 3px 1px rgba(0, 0, 0, 0.15);\n",
       "      filter: drop-shadow(0px 1px 2px rgba(0, 0, 0, 0.3));\n",
       "      fill: #FFFFFF;\n",
       "    }\n",
       "  </style>\n",
       "\n",
       "      <script>\n",
       "        const buttonEl =\n",
       "          document.querySelector('#df-6ced8836-b885-4328-9e6c-c3b97d645a49 button.colab-df-convert');\n",
       "        buttonEl.style.display =\n",
       "          google.colab.kernel.accessAllowed ? 'block' : 'none';\n",
       "\n",
       "        async function convertToInteractive(key) {\n",
       "          const element = document.querySelector('#df-6ced8836-b885-4328-9e6c-c3b97d645a49');\n",
       "          const dataTable =\n",
       "            await google.colab.kernel.invokeFunction('convertToInteractive',\n",
       "                                                     [key], {});\n",
       "          if (!dataTable) return;\n",
       "\n",
       "          const docLinkHtml = 'Like what you see? Visit the ' +\n",
       "            '<a target=\"_blank\" href=https://colab.research.google.com/notebooks/data_table.ipynb>data table notebook</a>'\n",
       "            + ' to learn more about interactive tables.';\n",
       "          element.innerHTML = '';\n",
       "          dataTable['output_type'] = 'display_data';\n",
       "          await google.colab.output.renderOutput(dataTable, element);\n",
       "          const docLink = document.createElement('div');\n",
       "          docLink.innerHTML = docLinkHtml;\n",
       "          element.appendChild(docLink);\n",
       "        }\n",
       "      </script>\n",
       "    </div>\n",
       "  </div>\n",
       "  "
      ],
      "text/plain": [
       "       label  pixel1  pixel2  pixel3  pixel4  pixel5  pixel6  pixel7  pixel8  \\\n",
       "59995      9       0       0       0       0       0       0       0       0   \n",
       "59996      1       0       0       0       0       0       0       0       0   \n",
       "59997      8       0       0       0       0       0       0       0       0   \n",
       "59998      8       0       0       0       0       0       0       0       0   \n",
       "59999      7       0       0       0       0       0       0       0       0   \n",
       "\n",
       "       pixel9  ...  pixel775  pixel776  pixel777  pixel778  pixel779  \\\n",
       "59995       0  ...         0         0         0         0         0   \n",
       "59996       0  ...        73         0         0         0         0   \n",
       "59997       0  ...       160       162       163       135        94   \n",
       "59998       0  ...         0         0         0         0         0   \n",
       "59999       0  ...         0         0         0         0         0   \n",
       "\n",
       "       pixel780  pixel781  pixel782  pixel783  pixel784  \n",
       "59995         0         0         0         0         0  \n",
       "59996         0         0         0         0         0  \n",
       "59997         0         0         0         0         0  \n",
       "59998         0         0         0         0         0  \n",
       "59999         0         0         0         0         0  \n",
       "\n",
       "[5 rows x 785 columns]"
      ]
     },
     "execution_count": 8,
     "metadata": {},
     "output_type": "execute_result"
    }
   ],
   "source": [
    "fashion_train_df.tail()"
   ]
  },
  {
   "cell_type": "code",
   "execution_count": 9,
   "metadata": {
    "colab": {
     "base_uri": "https://localhost:8080/"
    },
    "id": "XDUtEV4gSOlK",
    "outputId": "dff5276c-4342-4173-a61b-e5e05eda73b1"
   },
   "outputs": [
    {
     "data": {
      "text/plain": [
       "(60000, 785)"
      ]
     },
     "execution_count": 9,
     "metadata": {},
     "output_type": "execute_result"
    }
   ],
   "source": [
    "fashion_train_df.shape"
   ]
  },
  {
   "cell_type": "code",
   "execution_count": 10,
   "metadata": {
    "id": "g9kO6BdaSQZy"
   },
   "outputs": [],
   "source": [
    "train = np.array(fashion_train_df, dtype = 'float32')\n",
    "test = np.array(fashion_test_df, dtype='float32')"
   ]
  },
  {
   "cell_type": "code",
   "execution_count": 11,
   "metadata": {
    "colab": {
     "base_uri": "https://localhost:8080/"
    },
    "id": "ruIBBbWUrXX2",
    "outputId": "1af1576e-9eff-420a-90ab-216d70e793d6"
   },
   "outputs": [
    {
     "data": {
      "text/plain": [
       "array([[2., 0., 0., ..., 0., 0., 0.],\n",
       "       [9., 0., 0., ..., 0., 0., 0.],\n",
       "       [6., 0., 0., ..., 0., 0., 0.],\n",
       "       ...,\n",
       "       [8., 0., 0., ..., 0., 0., 0.],\n",
       "       [8., 0., 0., ..., 0., 0., 0.],\n",
       "       [7., 0., 0., ..., 0., 0., 0.]], dtype=float32)"
      ]
     },
     "execution_count": 11,
     "metadata": {},
     "output_type": "execute_result"
    }
   ],
   "source": [
    "train"
   ]
  },
  {
   "cell_type": "code",
   "execution_count": 12,
   "metadata": {
    "colab": {
     "base_uri": "https://localhost:8080/"
    },
    "id": "qBGw-XNwSRMD",
    "outputId": "f1e6162a-6458-4901-f8be-4c7a5f11150c"
   },
   "outputs": [
    {
     "data": {
      "text/plain": [
       "(60000, 785)"
      ]
     },
     "execution_count": 12,
     "metadata": {},
     "output_type": "execute_result"
    }
   ],
   "source": [
    "train.shape"
   ]
  },
  {
   "cell_type": "markdown",
   "metadata": {
    "id": "vSLUQba5rq9U"
   },
   "source": [
    "- 0 = T-shirt/top\n",
    "- 1 = Trouser\n",
    "- 2 = Pullover\n",
    "- 3 = Dress\n",
    "- 4 = Coat\n",
    "- 5 = Sandal\n",
    "- 6 = Shirt\n",
    "- 7 = Sneaker\n",
    "- 8 = Bag\n",
    "- 9 = Ankle boot"
   ]
  },
  {
   "cell_type": "code",
   "execution_count": 13,
   "metadata": {
    "colab": {
     "base_uri": "https://localhost:8080/",
     "height": 265
    },
    "id": "cNGNXCJLHJs4",
    "outputId": "365e6b3a-c40f-44e2-96db-a27cdbfa4a02"
   },
   "outputs": [
    {
     "data": {
      "image/png": "[encoded data removed]",
      "text/plain": [
       "<Figure size 432x288 with 1 Axes>"
      ]
     },
     "metadata": {
      "needs_background": "light"
     },
     "output_type": "display_data"
    }
   ],
   "source": [
    "i = random.randint(1, 60000)\n",
    "#plt.imshow(training[i,1:].reshape((28,28)))\n",
    "plt.imshow(train[i,1:].reshape((28,28)), cmap='gray');"
   ]
  },
  {
   "cell_type": "code",
   "execution_count": 14,
   "metadata": {
    "colab": {
     "base_uri": "https://localhost:8080/"
    },
    "id": "eKQWDY3PH2iY",
    "outputId": "cd4505cd-40a7-435e-910f-8d431fc33872"
   },
   "outputs": [
    {
     "data": {
      "text/plain": [
       "8.0"
      ]
     },
     "execution_count": 14,
     "metadata": {},
     "output_type": "execute_result"
    }
   ],
   "source": [
    "label = train[i,0]\n",
    "label"
   ]
  },
  {
   "cell_type": "code",
   "execution_count": 15,
   "metadata": {
    "colab": {
     "base_uri": "https://localhost:8080/",
     "height": 653
    },
    "id": "Az8k7o6WH_Wk",
    "outputId": "f162cd4c-53df-4e87-ba48-61016e714233"
   },
   "outputs": [
    {
     "data": {
      "image/png": "[encoded data removed]",
      "text/plain": [
       "<Figure size 1224x1224 with 25 Axes>"
      ]
     },
     "metadata": {
      "needs_background": "light"
     },
     "output_type": "display_data"
    }
   ],
   "source": [
    "W_grid = 5\n",
    "L_grid = 5\n",
    "fig, axes = plt.subplots(L_grid, W_grid, figsize = (17,17))\n",
    "axes = axes.ravel()\n",
    "n_train = len(train)\n",
    "\n",
    "for i in np.arange(0, W_grid * L_grid):\n",
    "    index = np.random.randint(0, n_train)\n",
    "    axes[i].imshow(train[index,1:].reshape((28,28)))\n",
    "    axes[i].set_title(train[index,0], fontsize = 8)\n",
    "    axes[i].axis('off')\n",
    "plt.subplots_adjust(hspace=0.4)"
   ]
  },
  {
   "cell_type": "code",
   "execution_count": 16,
   "metadata": {
    "colab": {
     "base_uri": "https://localhost:8080/"
    },
    "id": "003P3T_oIU3o",
    "outputId": "1dbb78ff-0278-47c6-be63-675936cd6c06"
   },
   "outputs": [
    {
     "data": {
      "text/plain": [
       "60000"
      ]
     },
     "execution_count": 16,
     "metadata": {},
     "output_type": "execute_result"
    }
   ],
   "source": [
    "n_train"
   ]
  },
  {
   "cell_type": "markdown",
   "metadata": {
    "id": "6fqi7dvhxk4u"
   },
   "source": [
    "# Etapa 4: Tratamento da base de dados"
   ]
  },
  {
   "cell_type": "code",
   "execution_count": 17,
   "metadata": {
    "id": "FZ5mCXrVKCbJ"
   },
   "outputs": [],
   "source": [
    "X_train = train[:,1:] / 255\n",
    "y_train = train[:,0]"
   ]
  },
  {
   "cell_type": "code",
   "execution_count": 18,
   "metadata": {
    "id": "Od7lRRzJKU_n"
   },
   "outputs": [],
   "source": [
    "X_test = test[:,1:] / 255\n",
    "y_test = test[:,0]"
   ]
  },
  {
   "cell_type": "code",
   "execution_count": 19,
   "metadata": {
    "colab": {
     "base_uri": "https://localhost:8080/"
    },
    "id": "2XsEaASMKfbc",
    "outputId": "a3f6db21-b875-4775-d8ad-3dc4c3d6a8b4"
   },
   "outputs": [
    {
     "data": {
      "text/plain": [
       "(60000, 784)"
      ]
     },
     "execution_count": 19,
     "metadata": {},
     "output_type": "execute_result"
    }
   ],
   "source": [
    "X_train.shape"
   ]
  },
  {
   "cell_type": "code",
   "execution_count": 20,
   "metadata": {
    "colab": {
     "base_uri": "https://localhost:8080/"
    },
    "id": "Ey0e9v1sKiY9",
    "outputId": "0f1cabfa-fe77-48ac-e82e-330cb73b95b5"
   },
   "outputs": [
    {
     "data": {
      "text/plain": [
       "(60000,)"
      ]
     },
     "execution_count": 20,
     "metadata": {},
     "output_type": "execute_result"
    }
   ],
   "source": [
    "y_train.shape"
   ]
  },
  {
   "cell_type": "code",
   "execution_count": 21,
   "metadata": {
    "colab": {
     "base_uri": "https://localhost:8080/"
    },
    "id": "f6hYK0yhKmip",
    "outputId": "899655ac-7e44-4bdb-ae28-1d4c6b0cd10f"
   },
   "outputs": [
    {
     "data": {
      "text/plain": [
       "array([0.        , 0.        , 0.        , 0.        , 0.        ,\n",
       "       0.        , 0.        , 0.        , 0.        , 0.        ,\n",
       "       0.        , 0.        , 0.        , 0.        , 0.        ,\n",
       "       0.        , 0.        , 0.        , 0.        , 0.        ,\n",
       "       0.        , 0.        , 0.        , 0.        , 0.        ,\n",
       "       0.        , 0.        , 0.        , 0.        , 0.        ,\n",
       "       0.        , 0.        , 0.        , 0.        , 0.        ,\n",
       "       0.        , 0.        , 0.        , 0.        , 0.        ,\n",
       "       0.        , 0.        , 0.        , 0.        , 0.        ,\n",
       "       0.        , 0.        , 0.        , 0.        , 0.        ,\n",
       "       0.        , 0.        , 0.        , 0.        , 0.        ,\n",
       "       0.        , 0.        , 0.        , 0.        , 0.        ,\n",
       "       0.        , 0.        , 0.        , 0.        , 0.        ,\n",
       "       0.        , 0.        , 0.        , 0.        , 0.        ,\n",
       "       0.        , 0.        , 0.        , 0.        , 0.        ,\n",
       "       0.        , 0.        , 0.        , 0.        , 0.        ,\n",
       "       0.        , 0.        , 0.        , 0.        , 0.        ,\n",
       "       0.        , 0.        , 0.        , 0.01568628, 0.        ,\n",
       "       0.        , 0.        , 0.        , 0.        , 0.24313726,\n",
       "       0.23921569, 0.08235294, 0.11372549, 0.09019608, 0.2       ,\n",
       "       0.53333336, 0.23921569, 0.        , 0.        , 0.        ,\n",
       "       0.        , 0.        , 0.        , 0.        , 0.        ,\n",
       "       0.        , 0.        , 0.        , 0.        , 0.        ,\n",
       "       0.        , 0.        , 0.        , 0.        , 0.34509805,\n",
       "       0.7882353 , 0.89411765, 0.88235295, 1.        , 0.4509804 ,\n",
       "       0.24313726, 0.5372549 , 1.        , 0.92156863, 0.87058824,\n",
       "       1.        , 0.5294118 , 0.        , 0.        , 0.        ,\n",
       "       0.        , 0.        , 0.        , 0.        , 0.        ,\n",
       "       0.        , 0.        , 0.        , 0.        , 0.        ,\n",
       "       0.18431373, 0.9882353 , 0.91764706, 0.93333334, 0.8784314 ,\n",
       "       0.84313726, 0.84313726, 0.8980392 , 0.42352942, 0.7058824 ,\n",
       "       0.8117647 , 0.8392157 , 0.8784314 , 0.90588236, 0.9764706 ,\n",
       "       0.99607843, 0.1764706 , 0.        , 0.        , 0.        ,\n",
       "       0.        , 0.        , 0.        , 0.        , 0.        ,\n",
       "       0.00392157, 0.        , 0.        , 0.8392157 , 0.87058824,\n",
       "       0.8235294 , 0.8352941 , 0.8784314 , 0.88235295, 0.8509804 ,\n",
       "       0.8627451 , 0.99607843, 0.9137255 , 0.85882354, 0.8666667 ,\n",
       "       0.8509804 , 0.8745098 , 0.8666667 , 0.9411765 , 0.99607843,\n",
       "       0.        , 0.        , 0.00392157, 0.        , 0.        ,\n",
       "       0.        , 0.00392157, 0.        , 0.        , 0.        ,\n",
       "       0.5019608 , 0.92941177, 0.8117647 , 0.8784314 , 0.8784314 ,\n",
       "       0.8117647 , 0.84705883, 0.8392157 , 0.8235294 , 0.8156863 ,\n",
       "       0.827451  , 0.8666667 , 0.8156863 , 0.85882354, 0.8352941 ,\n",
       "       0.8862745 , 0.827451  , 0.92941177, 0.5882353 , 0.        ,\n",
       "       0.        , 0.        , 0.        , 0.        , 0.        ,\n",
       "       0.00784314, 0.        , 0.        , 0.92941177, 0.87058824,\n",
       "       0.84313726, 0.8117647 , 0.8235294 , 0.83137256, 0.8352941 ,\n",
       "       0.80784315, 0.8392157 , 0.8352941 , 0.8392157 , 0.8352941 ,\n",
       "       0.8235294 , 0.84313726, 0.8392157 , 0.80784315, 0.78039217,\n",
       "       0.85490197, 1.        , 0.05098039, 0.        , 0.00784314,\n",
       "       0.        , 0.        , 0.        , 0.01568628, 0.        ,\n",
       "       0.33333334, 0.89411765, 0.8235294 , 0.85490197, 0.78431374,\n",
       "       0.827451  , 0.8156863 , 0.79607844, 0.84313726, 0.8235294 ,\n",
       "       0.81960785, 0.81960785, 0.8235294 , 0.8352941 , 0.827451  ,\n",
       "       0.8235294 , 0.8509804 , 0.80784315, 0.8352941 , 0.90588236,\n",
       "       0.6862745 , 0.        , 0.        , 0.        , 0.        ,\n",
       "       0.        , 0.        , 0.        , 0.8509804 , 0.8784314 ,\n",
       "       0.84313726, 0.80784315, 0.8039216 , 0.8       , 0.8509804 ,\n",
       "       0.9019608 , 0.87058824, 0.84313726, 0.8784314 , 0.9137255 ,\n",
       "       0.89411765, 0.9098039 , 0.89411765, 0.8784314 , 0.8117647 ,\n",
       "       0.83137256, 0.84313726, 0.8352941 , 0.8980392 , 0.12156863,\n",
       "       0.        , 0.01568628, 0.        , 0.00392157, 0.        ,\n",
       "       0.08235294, 0.88235295, 0.83137256, 0.83137256, 0.79607844,\n",
       "       0.827451  , 0.88235295, 0.75686276, 0.54509807, 0.53333336,\n",
       "       0.7647059 , 0.5764706 , 0.6117647 , 0.54509807, 0.5019608 ,\n",
       "       0.63529414, 0.77254903, 0.8745098 , 0.8117647 , 0.8627451 ,\n",
       "       0.8352941 , 0.9098039 , 0.69411767, 0.        , 0.        ,\n",
       "       0.        , 0.        , 0.        , 0.48235294, 0.8862745 ,\n",
       "       0.8117647 , 0.827451  , 0.81960785, 0.8039216 , 0.89411765,\n",
       "       0.61960787, 0.3529412 , 0.40392157, 0.7294118 , 0.5411765 ,\n",
       "       0.39215687, 0.4745098 , 0.5764706 , 0.61960787, 0.7176471 ,\n",
       "       0.8862745 , 0.8156863 , 0.8392157 , 0.81960785, 0.84705883,\n",
       "       1.        , 0.05098039, 0.        , 0.00392157, 0.        ,\n",
       "       0.        , 0.8862745 , 0.85882354, 0.7921569 , 0.8156863 ,\n",
       "       0.80784315, 0.8039216 , 0.84705883, 0.72156864, 0.6117647 ,\n",
       "       0.5882353 , 0.75686276, 0.6666667 , 0.6431373 , 0.65882355,\n",
       "       0.7372549 , 0.7294118 , 0.78431374, 0.85882354, 0.84705883,\n",
       "       0.8352941 , 0.8352941 , 0.827451  , 0.9137255 , 0.5803922 ,\n",
       "       0.        , 0.        , 0.        , 0.1764706 , 0.8901961 ,\n",
       "       0.8       , 0.8392157 , 0.827451  , 0.85490197, 0.87058824,\n",
       "       0.8666667 , 0.9019608 , 0.8980392 , 0.8666667 , 0.8352941 ,\n",
       "       0.8784314 , 0.9137255 , 0.8862745 , 0.8627451 , 0.85882354,\n",
       "       0.8666667 , 0.8784314 , 0.8745098 , 0.8509804 , 0.8235294 ,\n",
       "       0.85490197, 0.8352941 , 0.99607843, 0.        , 0.        ,\n",
       "       0.        , 0.6156863 , 0.8862745 , 0.79607844, 0.8117647 ,\n",
       "       0.827451  , 0.81960785, 0.84313726, 0.8039216 , 0.7764706 ,\n",
       "       0.8117647 , 0.8156863 , 0.7882353 , 0.7882353 , 0.77254903,\n",
       "       0.79607844, 0.8039216 , 0.8235294 , 0.8117647 , 0.8352941 ,\n",
       "       0.8392157 , 0.8392157 , 0.8392157 , 0.8352941 , 0.8156863 ,\n",
       "       0.91764706, 0.41960785, 0.        , 0.        , 0.92156863,\n",
       "       0.8352941 , 0.8       , 0.827451  , 0.8235294 , 0.81960785,\n",
       "       0.8352941 , 0.7921569 , 0.77254903, 0.8       , 0.84313726,\n",
       "       0.8509804 , 0.8352941 , 0.83137256, 0.8235294 , 0.80784315,\n",
       "       0.83137256, 0.79607844, 0.827451  , 0.85490197, 0.84313726,\n",
       "       0.8392157 , 0.8156863 , 0.81960785, 0.87058824, 0.9019608 ,\n",
       "       0.        , 0.20392157, 1.        , 0.8117647 , 0.78431374,\n",
       "       0.8156863 , 0.8352941 , 0.8235294 , 0.8235294 , 0.8156863 ,\n",
       "       0.8117647 , 0.7921569 , 0.7882353 , 0.81960785, 0.84705883,\n",
       "       0.84705883, 0.84705883, 0.84705883, 0.8392157 , 0.83137256,\n",
       "       0.8039216 , 0.84313726, 0.7882353 , 0.89411765, 0.8156863 ,\n",
       "       0.8392157 , 0.83137256, 0.85490197, 0.09803922, 0.4627451 ,\n",
       "       0.8509804 , 0.7882353 , 0.80784315, 0.8156863 , 0.8352941 ,\n",
       "       0.8156863 , 0.8039216 , 0.80784315, 0.8235294 , 0.827451  ,\n",
       "       0.7921569 , 0.78039217, 0.8117647 , 0.8156863 , 0.81960785,\n",
       "       0.8235294 , 0.8117647 , 0.8235294 , 0.8235294 , 0.9607843 ,\n",
       "       0.54509807, 0.46666667, 1.        , 0.7921569 , 0.79607844,\n",
       "       0.9254902 , 0.44705883, 0.67058825, 0.93333334, 0.83137256,\n",
       "       0.79607844, 0.8627451 , 0.84705883, 0.8509804 , 0.81960785,\n",
       "       0.8117647 , 0.8039216 , 0.8235294 , 0.827451  , 0.80784315,\n",
       "       0.8       , 0.80784315, 0.81960785, 0.827451  , 0.84313726,\n",
       "       0.8235294 , 0.80784315, 0.8666667 , 0.9490196 , 0.        ,\n",
       "       0.8784314 , 0.91764706, 0.9019608 , 0.70980394, 0.10196079,\n",
       "       0.15294118, 0.5686275 , 0.7882353 , 1.        , 0.6156863 ,\n",
       "       0.4509804 , 0.98039216, 0.78431374, 0.8117647 , 0.80784315,\n",
       "       0.8117647 , 0.8352941 , 0.84705883, 0.80784315, 0.8039216 ,\n",
       "       0.80784315, 0.8117647 , 0.80784315, 0.84313726, 0.8117647 ,\n",
       "       0.8666667 , 0.93333334, 0.        , 0.        , 0.7372549 ,\n",
       "       0.33333334, 0.        , 0.        , 0.        , 0.        ,\n",
       "       0.        , 0.12156863, 0.        , 0.5058824 , 0.99215686,\n",
       "       0.74509805, 0.8117647 , 0.8156863 , 0.8156863 , 0.8156863 ,\n",
       "       0.81960785, 0.827451  , 0.827451  , 0.81960785, 0.81960785,\n",
       "       0.81960785, 0.83137256, 0.7882353 , 0.8862745 , 0.64705884,\n",
       "       0.        , 0.        , 0.        , 0.        , 0.        ,\n",
       "       0.        , 0.00784314, 0.        , 0.        , 0.        ,\n",
       "       0.        , 0.34901962, 0.99607843, 0.78039217, 0.78039217,\n",
       "       0.7529412 , 0.76862746, 0.7764706 , 0.78039217, 0.7882353 ,\n",
       "       0.7921569 , 0.79607844, 0.8       , 0.79607844, 0.79607844,\n",
       "       0.78431374, 0.87058824, 0.60784316, 0.        , 0.01176471,\n",
       "       0.01176471, 0.01176471, 0.00784314, 0.        , 0.        ,\n",
       "       0.        , 0.00392157, 0.01960784, 0.        , 0.        ,\n",
       "       1.        , 0.85490197, 0.8862745 , 0.9098039 , 0.89411765,\n",
       "       0.8784314 , 0.87058824, 0.8627451 , 0.85882354, 0.85882354,\n",
       "       0.8509804 , 0.8666667 , 0.8627451 , 0.83137256, 0.9254902 ,\n",
       "       0.37254903, 0.        , 0.00784314, 0.        , 0.        ,\n",
       "       0.        , 0.        , 0.        , 0.        , 0.        ,\n",
       "       0.        , 0.        , 0.        , 0.60784316, 0.7607843 ,\n",
       "       0.65882355, 0.6666667 , 0.67058825, 0.6784314 , 0.6784314 ,\n",
       "       0.7019608 , 0.69411767, 0.6862745 , 0.6745098 , 0.67058825,\n",
       "       0.654902  , 0.6313726 , 0.7058824 , 0.        , 0.        ,\n",
       "       0.00392157, 0.        , 0.00392157, 0.        , 0.        ,\n",
       "       0.        , 0.        , 0.        , 0.        , 0.        ,\n",
       "       0.        , 0.        , 0.        , 0.        , 0.        ,\n",
       "       0.        , 0.        , 0.        , 0.        , 0.        ,\n",
       "       0.        , 0.        , 0.        , 0.        , 0.        ,\n",
       "       0.        , 0.        , 0.        , 0.        , 0.        ,\n",
       "       0.        , 0.        , 0.        , 0.        , 0.        ,\n",
       "       0.        , 0.        , 0.        , 0.        , 0.        ,\n",
       "       0.        , 0.        , 0.        , 0.        , 0.        ,\n",
       "       0.        , 0.        , 0.        , 0.        , 0.        ,\n",
       "       0.        , 0.        , 0.        , 0.        , 0.        ,\n",
       "       0.        , 0.        , 0.        , 0.        , 0.        ,\n",
       "       0.        , 0.        , 0.        , 0.        , 0.        ,\n",
       "       0.        , 0.        , 0.        , 0.        , 0.        ,\n",
       "       0.        , 0.        , 0.        , 0.        , 0.        ,\n",
       "       0.        , 0.        , 0.        , 0.        , 0.        ,\n",
       "       0.        , 0.        , 0.        , 0.        , 0.        ,\n",
       "       0.        , 0.        , 0.        , 0.        ], dtype=float32)"
      ]
     },
     "execution_count": 21,
     "metadata": {},
     "output_type": "execute_result"
    }
   ],
   "source": [
    "X_train[0]"
   ]
  },
  {
   "cell_type": "code",
   "execution_count": 22,
   "metadata": {
    "id": "HQtjKsDEKrih"
   },
   "outputs": [],
   "source": [
    "X_train = X_train.reshape(X_train.shape[0], *(28,28, 1))\n",
    "X_test = X_test.reshape(X_test.shape[0], *(28,28, 1))"
   ]
  },
  {
   "cell_type": "code",
   "execution_count": 23,
   "metadata": {
    "colab": {
     "base_uri": "https://localhost:8080/"
    },
    "id": "n_WfIDmuLDAP",
    "outputId": "a4291b3b-c2ca-45b2-e9f0-9ca81acfc065"
   },
   "outputs": [
    {
     "data": {
      "text/plain": [
       "(60000, 28, 28, 1)"
      ]
     },
     "execution_count": 23,
     "metadata": {},
     "output_type": "execute_result"
    }
   ],
   "source": [
    "X_train.shape"
   ]
  },
  {
   "cell_type": "code",
   "execution_count": 24,
   "metadata": {
    "colab": {
     "base_uri": "https://localhost:8080/"
    },
    "id": "ACRI3R1MK389",
    "outputId": "4e8cdef0-fce7-45cd-bf6c-44243de34a77"
   },
   "outputs": [
    {
     "data": {
      "text/plain": [
       "(10000, 28, 28, 1)"
      ]
     },
     "execution_count": 24,
     "metadata": {},
     "output_type": "execute_result"
    }
   ],
   "source": [
    "X_test.shape"
   ]
  },
  {
   "cell_type": "markdown",
   "metadata": {
    "id": "zPcXYuTkoko7"
   },
   "source": [
    "# Etapa 5: Construção e treinamento do modelo"
   ]
  },
  {
   "cell_type": "code",
   "execution_count": 68,
   "metadata": {
    "colab": {
     "base_uri": "https://localhost:8080/"
    },
    "id": "U9HrIndqMK0R",
    "outputId": "c630cd0a-706c-4d62-b748-03d1de133c88",
    "scrolled": false
   },
   "outputs": [
    {
     "name": "stdout",
     "output_type": "stream",
     "text": [
      "Model: \"sequential_4\"\n",
      "_________________________________________________________________\n",
      " Layer (type)                Output Shape              Param #   \n",
      "=================================================================\n",
      " conv2d_12 (Conv2D)          (None, 26, 26, 32)        320       \n",
      "                                                                 \n",
      " max_pooling2d_8 (MaxPooling  (None, 13, 13, 32)       0         \n",
      " 2D)                                                             \n",
      "                                                                 \n",
      " conv2d_13 (Conv2D)          (None, 11, 11, 64)        18496     \n",
      "                                                                 \n",
      " max_pooling2d_9 (MaxPooling  (None, 5, 5, 64)         0         \n",
      " 2D)                                                             \n",
      "                                                                 \n",
      " conv2d_14 (Conv2D)          (None, 3, 3, 64)          36928     \n",
      "                                                                 \n",
      " flatten_4 (Flatten)         (None, 576)               0         \n",
      "                                                                 \n",
      " dense_8 (Dense)             (None, 64)                36928     \n",
      "                                                                 \n",
      " dense_9 (Dense)             (None, 10)                650       \n",
      "                                                                 \n",
      "=================================================================\n",
      "Total params: 93,322\n",
      "Trainable params: 93,322\n",
      "Non-trainable params: 0\n",
      "_________________________________________________________________\n"
     ]
    }
   ],
   "source": [
    "cnn = models.Sequential()\n",
    "\n",
    "#32 detectores com feature detector = 3x3\n",
    "cnn.add(layers.Conv2D(32, (3,3), activation = 'relu', input_shape=(28,28,1)))\n",
    "#maxpooling 2x2 stride = 1\n",
    "cnn.add(layers.MaxPooling2D(2,2))\n",
    "\n",
    "#64 detectores com feature detector = 3x3\n",
    "cnn.add(layers.Conv2D(64, (3,3), activation = 'relu'))\n",
    "#maxpooling 2x2 stride = 1\n",
    "cnn.add(layers.MaxPooling2D(2,2))\n",
    "\n",
    "#64 detectores com feature detector = 3x3\n",
    "cnn.add(layers.Conv2D(64, (3,3), activation = 'relu'))\n",
    "\n",
    "#vetorização\n",
    "cnn.add(layers.Flatten())\n",
    "\n",
    "cnn.add(layers.Dense(64, activation = 'relu'))\n",
    "\n",
    "#10 neuronios de saida por causa das 10 classes\n",
    "cnn.add(layers.Dense(10, activation = 'softmax'))\n",
    "\n",
    "cnn.summary()"
   ]
  },
  {
   "cell_type": "code",
   "execution_count": 69,
   "metadata": {
    "id": "ZRswJXgMOVSN"
   },
   "outputs": [],
   "source": [
    "cnn.compile(loss = 'sparse_categorical_crossentropy', optimizer='Adam',\n",
    "            metrics = ['accuracy'])"
   ]
  },
  {
   "cell_type": "code",
   "execution_count": 70,
   "metadata": {
    "colab": {
     "base_uri": "https://localhost:8080/"
    },
    "id": "oP_m_SA2Otv2",
    "outputId": "57f59518-d680-4b3d-ac9e-e1ff04b11eb3"
   },
   "outputs": [
    {
     "name": "stdout",
     "output_type": "stream",
     "text": [
      "Epoch 1/15\n",
      "118/118 [==============================] - 2s 12ms/step - loss: 0.8546 - accuracy: 0.7010\n",
      "Epoch 2/15\n",
      "118/118 [==============================] - 1s 11ms/step - loss: 0.4968 - accuracy: 0.8167\n",
      "Epoch 3/15\n",
      "118/118 [==============================] - 1s 11ms/step - loss: 0.4173 - accuracy: 0.8499\n",
      "Epoch 4/15\n",
      "118/118 [==============================] - 1s 11ms/step - loss: 0.3785 - accuracy: 0.8637\n",
      "Epoch 5/15\n",
      "118/118 [==============================] - 1s 11ms/step - loss: 0.3499 - accuracy: 0.8748\n",
      "Epoch 6/15\n",
      "118/118 [==============================] - 1s 11ms/step - loss: 0.3319 - accuracy: 0.8808\n",
      "Epoch 7/15\n",
      "118/118 [==============================] - 1s 11ms/step - loss: 0.3093 - accuracy: 0.8899\n",
      "Epoch 8/15\n",
      "118/118 [==============================] - 1s 11ms/step - loss: 0.2997 - accuracy: 0.8925\n",
      "Epoch 9/15\n",
      "118/118 [==============================] - 1s 11ms/step - loss: 0.2865 - accuracy: 0.8971\n",
      "Epoch 10/15\n",
      "118/118 [==============================] - 1s 11ms/step - loss: 0.2761 - accuracy: 0.9008\n",
      "Epoch 11/15\n",
      "118/118 [==============================] - 1s 11ms/step - loss: 0.2631 - accuracy: 0.9052\n",
      "Epoch 12/15\n",
      "118/118 [==============================] - 1s 11ms/step - loss: 0.2547 - accuracy: 0.9084\n",
      "Epoch 13/15\n",
      "118/118 [==============================] - 1s 11ms/step - loss: 0.2485 - accuracy: 0.9104\n",
      "Epoch 14/15\n",
      "118/118 [==============================] - 1s 11ms/step - loss: 0.2393 - accuracy: 0.9136\n",
      "Epoch 15/15\n",
      "118/118 [==============================] - 1s 11ms/step - loss: 0.2343 - accuracy: 0.9148\n"
     ]
    }
   ],
   "source": [
    "epochs = 15\n",
    "history = cnn.fit(X_train, y_train, batch_size = 512, epochs = epochs)"
   ]
  },
  {
   "cell_type": "markdown",
   "metadata": {
    "id": "0wR3uKW8g5po"
   },
   "source": [
    "# Etapa 6: Avaliação do modelo"
   ]
  },
  {
   "cell_type": "code",
   "execution_count": 71,
   "metadata": {
    "colab": {
     "base_uri": "https://localhost:8080/"
    },
    "id": "T99TCq1uQbAF",
    "outputId": "3c34bbb1-ac55-42c2-f710-c07d8b81647f"
   },
   "outputs": [
    {
     "name": "stdout",
     "output_type": "stream",
     "text": [
      "313/313 [==============================] - 1s 3ms/step - loss: 0.2538 - accuracy: 0.9098\n"
     ]
    }
   ],
   "source": [
    "evaluation = cnn.evaluate(X_test, y_test)"
   ]
  },
  {
   "cell_type": "code",
   "execution_count": 72,
   "metadata": {
    "colab": {
     "base_uri": "https://localhost:8080/"
    },
    "id": "q_t1po7DQjJz",
    "outputId": "77951bea-8712-49f2-e677-de55d4e672a8"
   },
   "outputs": [
    {
     "data": {
      "text/plain": [
       "[0.2537863254547119, 0.9097999930381775]"
      ]
     },
     "execution_count": 72,
     "metadata": {},
     "output_type": "execute_result"
    }
   ],
   "source": [
    "evaluation"
   ]
  },
  {
   "cell_type": "code",
   "execution_count": 73,
   "metadata": {
    "id": "njm2W0hFRbfC"
   },
   "outputs": [],
   "source": [
    "#predicted_classes = cnn.predict_classes(X_test) -- Atualizado: 17/01/22"
   ]
  },
  {
   "cell_type": "code",
   "execution_count": 74,
   "metadata": {
    "id": "yg3s9zClBO-s"
   },
   "outputs": [],
   "source": [
    "predict_x=cnn.predict(X_test) \n",
    "predicted_classes=np.argmax(predict_x,axis=1)"
   ]
  },
  {
   "cell_type": "code",
   "execution_count": 75,
   "metadata": {
    "colab": {
     "base_uri": "https://localhost:8080/"
    },
    "id": "fuLfmstuBZoD",
    "outputId": "89580756-1e52-4ffd-820c-75f44865f74c"
   },
   "outputs": [
    {
     "data": {
      "text/plain": [
       "array([0, 1, 2, ..., 8, 8, 1])"
      ]
     },
     "execution_count": 75,
     "metadata": {},
     "output_type": "execute_result"
    }
   ],
   "source": [
    "predicted_classes"
   ]
  },
  {
   "cell_type": "code",
   "execution_count": 76,
   "metadata": {
    "colab": {
     "base_uri": "https://localhost:8080/"
    },
    "id": "6mprac4jRlxi",
    "outputId": "f40f3a4c-4cd2-4060-9ede-45d5f0d67f51"
   },
   "outputs": [
    {
     "data": {
      "text/plain": [
       "array([0., 1., 2., ..., 8., 8., 1.], dtype=float32)"
      ]
     },
     "execution_count": 76,
     "metadata": {},
     "output_type": "execute_result"
    }
   ],
   "source": [
    "y_test"
   ]
  },
  {
   "cell_type": "code",
   "execution_count": 77,
   "metadata": {
    "colab": {
     "base_uri": "https://localhost:8080/",
     "height": 667
    },
    "id": "_B9MpChZQ1ev",
    "outputId": "bc187466-b525-4a9e-ca63-6a5534a7a793"
   },
   "outputs": [
    {
     "data": {
      "image/png": "[encoded data removed]",
      "text/plain": [
       "<Figure size 864x864 with 25 Axes>"
      ]
     },
     "metadata": {
      "needs_background": "light"
     },
     "output_type": "display_data"
    }
   ],
   "source": [
    "W_grid = 5\n",
    "L_grid = 5\n",
    "fig, axes = plt.subplots(L_grid, W_grid, figsize = (12,12))\n",
    "axes = axes.ravel()\n",
    "\n",
    "for i in np.arange(0, W_grid * L_grid):\n",
    "    axes[i].imshow(X_test[i].reshape((28,28)))\n",
    "    axes[i].set_title(\"Predction class = {:0.1f}\\n True class = {:0.1f}\".format(predicted_classes[i], y_test[i]), fontsize = 8)\n",
    "    axes[i].axis('off')\n",
    "plt.subplots_adjust(hspace=0.4)"
   ]
  },
  {
   "cell_type": "code",
   "execution_count": 78,
   "metadata": {
    "colab": {
     "base_uri": "https://localhost:8080/",
     "height": 517
    },
    "id": "b1mJisiNSER3",
    "outputId": "ffb1e4e3-8ffc-463a-bc36-69b59f264a8c"
   },
   "outputs": [
    {
     "data": {
      "text/plain": [
       "<matplotlib.axes._subplots.AxesSubplot at 0x7fdfbbb065d0>"
      ]
     },
     "execution_count": 78,
     "metadata": {},
     "output_type": "execute_result"
    },
    {
     "data": {
      "image/png": "[encoded data removed]",
      "text/plain": [
       "<Figure size 1008x720 with 2 Axes>"
      ]
     },
     "metadata": {
      "needs_background": "light"
     },
     "output_type": "display_data"
    }
   ],
   "source": [
    "from sklearn.metrics import confusion_matrix\n",
    "cm = confusion_matrix(y_test, predicted_classes)\n",
    "plt.figure(figsize = (14,10))\n",
    "sns.heatmap(cm, annot=True)"
   ]
  },
  {
   "cell_type": "code",
   "execution_count": 79,
   "metadata": {
    "colab": {
     "base_uri": "https://localhost:8080/"
    },
    "id": "293C5KZ-SStj",
    "outputId": "961f7af2-43fa-4cda-b483-b9cb5fbebc26"
   },
   "outputs": [
    {
     "data": {
      "text/plain": [
       "array([[851,   3,  13,  17,   1,   1, 106,   0,   8,   0],\n",
       "       [  3, 982,   1,  10,   0,   1,   3,   0,   0,   0],\n",
       "       [ 12,   1, 849,  17,  49,   0,  68,   0,   4,   0],\n",
       "       [ 18,   7,   2, 940,  10,   0,  23,   0,   0,   0],\n",
       "       [  1,   1,  41,  36, 847,   0,  73,   0,   1,   0],\n",
       "       [  0,   1,   0,   0,   0, 952,   0,  30,   2,  15],\n",
       "       [ 99,   4,  51,  31,  45,   0, 765,   0,   5,   0],\n",
       "       [  0,   0,   0,   0,   0,   3,   0, 972,   0,  25],\n",
       "       [  3,   1,   3,   0,   3,   0,   5,   1, 984,   0],\n",
       "       [  0,   0,   0,   0,   0,   2,   0,  40,   2, 956]])"
      ]
     },
     "execution_count": 79,
     "metadata": {},
     "output_type": "execute_result"
    }
   ],
   "source": [
    "cm"
   ]
  },
  {
   "cell_type": "code",
   "execution_count": 80,
   "metadata": {
    "colab": {
     "base_uri": "https://localhost:8080/"
    },
    "id": "wvoqOOoTSccJ",
    "outputId": "4ad03cb2-9328-4664-f59d-0816d2332f12"
   },
   "outputs": [
    {
     "data": {
      "text/plain": [
       "['Class 0',\n",
       " 'Class 1',\n",
       " 'Class 2',\n",
       " 'Class 3',\n",
       " 'Class 4',\n",
       " 'Class 5',\n",
       " 'Class 6',\n",
       " 'Class 7',\n",
       " 'Class 8',\n",
       " 'Class 9']"
      ]
     },
     "execution_count": 80,
     "metadata": {},
     "output_type": "execute_result"
    }
   ],
   "source": [
    "from sklearn.metrics import classification_report\n",
    "num_classes = 10\n",
    "target_names = [\"Class {}\".format(i) for i in range(num_classes)]\n",
    "target_names"
   ]
  },
  {
   "cell_type": "code",
   "execution_count": 81,
   "metadata": {
    "colab": {
     "base_uri": "https://localhost:8080/"
    },
    "id": "8EgD7P2EStfE",
    "outputId": "70bdc559-38a0-4ffe-be64-039c50d9e46f"
   },
   "outputs": [
    {
     "name": "stdout",
     "output_type": "stream",
     "text": [
      "              precision    recall  f1-score   support\n",
      "\n",
      "     Class 0       0.86      0.85      0.86      1000\n",
      "     Class 1       0.98      0.98      0.98      1000\n",
      "     Class 2       0.88      0.85      0.87      1000\n",
      "     Class 3       0.89      0.94      0.92      1000\n",
      "     Class 4       0.89      0.85      0.87      1000\n",
      "     Class 5       0.99      0.95      0.97      1000\n",
      "     Class 6       0.73      0.77      0.75      1000\n",
      "     Class 7       0.93      0.97      0.95      1000\n",
      "     Class 8       0.98      0.98      0.98      1000\n",
      "     Class 9       0.96      0.96      0.96      1000\n",
      "\n",
      "    accuracy                           0.91     10000\n",
      "   macro avg       0.91      0.91      0.91     10000\n",
      "weighted avg       0.91      0.91      0.91     10000\n",
      "\n"
     ]
    }
   ],
   "source": [
    "print(classification_report(y_test, predicted_classes, target_names=target_names))"
   ]
  }
 ],
 "metadata": {
  "accelerator": "GPU",
  "colab": {
   "collapsed_sections": [],
   "name": "Projeto_7_Classificação_de_roupas.ipynb",
   "provenance": []
  },
  "kernelspec": {
   "display_name": "Python 3 (ipykernel)",
   "language": "python",
   "name": "python3"
  },
  "language_info": {
   "codemirror_mode": {
    "name": "ipython",
    "version": 3
   },
   "file_extension": ".py",
   "mimetype": "text/x-python",
   "name": "python",
   "nbconvert_exporter": "python",
   "pygments_lexer": "ipython3",
   "version": "3.9.7"
  }
 },
 "nbformat": 4,
 "nbformat_minor": 1
}
